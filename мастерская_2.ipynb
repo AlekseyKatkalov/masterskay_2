{
 "cells": [
  {
   "cell_type": "markdown",
   "id": "WNAlhEHCEhG4",
   "metadata": {
    "id": "WNAlhEHCEhG4"
   },
   "source": [
    "# Маркетинг"
   ]
  },
  {
   "cell_type": "markdown",
   "id": "Lvt9bZ0vEhzf",
   "metadata": {
    "id": "Lvt9bZ0vEhzf"
   },
   "source": [
    "## Описание проекта"
   ]
  },
  {
   "cell_type": "markdown",
   "id": "1QxqQLusEh4_",
   "metadata": {
    "id": "1QxqQLusEh4_"
   },
   "source": [
    "Интернет-магазин собирает историю покупателей, проводит рассылки предложений и\n",
    "планирует будущие продажи. Для оптимизации процессов надо выделить пользователей,\n",
    "которые готовы совершить покупку в ближайшее время."
   ]
  },
  {
   "cell_type": "markdown",
   "id": "TzfLVEylEh9H",
   "metadata": {
    "id": "TzfLVEylEh9H"
   },
   "source": [
    "## Цель"
   ]
  },
  {
   "cell_type": "markdown",
   "id": "Bx45BGRYEh_l",
   "metadata": {
    "id": "Bx45BGRYEh_l"
   },
   "source": [
    "Предсказать вероятность покупки в течение 90 дней."
   ]
  },
  {
   "cell_type": "markdown",
   "id": "lQ7ROByZEiC8",
   "metadata": {
    "id": "lQ7ROByZEiC8"
   },
   "source": [
    "## Задачи"
   ]
  },
  {
   "cell_type": "markdown",
   "id": "ZkN5pA3ZEiFj",
   "metadata": {
    "id": "ZkN5pA3ZEiFj"
   },
   "source": [
    "- Изучить данные;\n",
    "- Разработать полезные признаки;\n",
    "- Создать модель для классификации пользователей;\n",
    "- Улучшить модель и максимизировать метрику roc_auc;\n",
    "- Выполнить тестирование."
   ]
  },
  {
   "cell_type": "markdown",
   "id": "NJwXZH0GEiIn",
   "metadata": {
    "id": "NJwXZH0GEiIn"
   },
   "source": [
    "## Данные"
   ]
  },
  {
   "cell_type": "markdown",
   "id": "CwTa2hwaKKNQ",
   "metadata": {
    "id": "CwTa2hwaKKNQ"
   },
   "source": [
    "**apparel-purchases** - история покупок:\n",
    "\n",
    "- client_id идентификатор пользователя;\n",
    "- quantity количество товаров в заказе;\n",
    "- price цена товара;\n",
    "- category_ids вложенные категории, к которым отнсится товар;\n",
    "- date дата покупки;\n",
    "- message_id идентификатор сообщения из рассылки.\n",
    "\n",
    "**apparel-messages** - история рекламных рассылок:\n",
    "\n",
    "- bulk_campaign_id идентификатор рекламной кампании;\n",
    "- client_id идентификатор пользователя;\n",
    "- message_id идентификатор сообщений;\n",
    "- event тип действия;\n",
    "- channel канал рассылки;\n",
    "- date дата рассылки;\n",
    "- created_at точное время создания сообщения.\n",
    "\n",
    "**apparel-target_binary** - совершит ли клиент покупку в течение следующих 90 дней:\n",
    "\n",
    "- client_id идентификатор пользователя;\n",
    "- target целевой признак."
   ]
  },
  {
   "cell_type": "markdown",
   "id": "GjRcAVCgk4gG",
   "metadata": {
    "id": "GjRcAVCgk4gG"
   },
   "source": [
    "## Установка модулей"
   ]
  },
  {
   "cell_type": "code",
   "execution_count": 1,
   "id": "IdPFXWkRk9QN",
   "metadata": {
    "colab": {
     "base_uri": "https://localhost:8080/"
    },
    "id": "IdPFXWkRk9QN",
    "outputId": "9a2288e0-9187-4588-ebb9-4da5501650b8",
    "tags": []
   },
   "outputs": [],
   "source": [
    "# !pip install phik -q\n",
    "# !pip install lightgbm -q\n",
    "# !pip install --upgrade pandas -q"
   ]
  },
  {
   "cell_type": "markdown",
   "id": "acee256a",
   "metadata": {
    "id": "acee256a"
   },
   "source": [
    "## Загрузка модулей"
   ]
  },
  {
   "cell_type": "code",
   "execution_count": 217,
   "id": "831c86ad",
   "metadata": {
    "id": "831c86ad",
    "tags": []
   },
   "outputs": [],
   "source": [
    "import pandas as pd\n",
    "import numpy as np\n",
    "import matplotlib.pyplot as plt\n",
    "import seaborn as sns\n",
    "import phik\n",
    "\n",
    "\n",
    "from sklearn.model_selection import train_test_split, GridSearchCV\n",
    "from sklearn.preprocessing import StandardScaler, OneHotEncoder, LabelEncoder\n",
    "from sklearn.pipeline import Pipeline\n",
    "from sklearn.compose import ColumnTransformer\n",
    "from sklearn.metrics import classification_report, roc_auc_score, confusion_matrix, ConfusionMatrixDisplay, f1_score\n",
    "\n",
    "from sklearn.linear_model import LogisticRegression\n",
    "from sklearn.ensemble import RandomForestClassifier\n",
    "from lightgbm import LGBMClassifier\n",
    "from catboost import CatBoostClassifier\n",
    "import lightgbm as lgb"
   ]
  },
  {
   "cell_type": "markdown",
   "id": "jhRJSQj5TLjy",
   "metadata": {
    "id": "jhRJSQj5TLjy"
   },
   "source": [
    "## Загрузка функций"
   ]
  },
  {
   "cell_type": "code",
   "execution_count": 3,
   "id": "HiUWc8ZkTO5C",
   "metadata": {
    "id": "HiUWc8ZkTO5C",
    "tags": []
   },
   "outputs": [],
   "source": [
    "def convert_str_lst(string):\n",
    "    \"\"\"Функция преобразует строку похожую на список в список.\"\"\"\n",
    "    if string in ['[None]', '[]']:\n",
    "        return np.nan\n",
    "    lst = string.replace(\"'\", \"\")[1:-1].split(', ')\n",
    "    return list(map(lambda x: np.nan if x=='None' else int(x), lst))\n",
    "\n",
    "def select_features(phik_matrix, target, threshold=0.05, multicollinearity_thresh=0.9):\n",
    "    \"\"\"Отбирает в матрице phik-корреляции только те признаки, которые больше заданного порога,\n",
    "    затем в полученных признаках убирает признаки, которое сильно  коррелируют с остальными.\"\"\"\n",
    "    target_corr = phik_matrix[target].sort_values(ascending=False)\n",
    "\n",
    "    true_features = target_corr[target_corr>threshold].index.tolist()\n",
    "    true_features.remove(target)\n",
    "\n",
    "    selected_features = []\n",
    "    for feature in true_features:\n",
    "        collinear = False\n",
    "        for selected in selected_features:\n",
    "            if phik_matrix.loc[feature, selected] > multicollinearity_thresh:\n",
    "                collinear = True\n",
    "                break\n",
    "        if not collinear:\n",
    "            selected_features.append(feature)\n",
    "    return selected_features\n",
    "\n",
    "def get_metrics(grid_search, X_train, y_train):\n",
    "    grid_search.fit(X_train, y_train)\n",
    "    print(f\"Лучшие параметры: {grid_search.best_params_}\")\n",
    "    print(f\"roc_auc = : {grid_search.best_score_:.2f}\")"
   ]
  },
  {
   "cell_type": "markdown",
   "id": "vXr04dBNsUT7",
   "metadata": {
    "id": "vXr04dBNsUT7"
   },
   "source": [
    "## Загрузка датафремов"
   ]
  },
  {
   "cell_type": "code",
   "execution_count": 4,
   "id": "PbNYfHC9125Q",
   "metadata": {
    "colab": {
     "base_uri": "https://localhost:8080/",
     "height": 206
    },
    "id": "PbNYfHC9125Q",
    "outputId": "9a792e85-7bf6-45c8-dda7-6dcb73dd021f",
    "tags": []
   },
   "outputs": [
    {
     "data": {
      "text/html": [
       "<div>\n",
       "<style scoped>\n",
       "    .dataframe tbody tr th:only-of-type {\n",
       "        vertical-align: middle;\n",
       "    }\n",
       "\n",
       "    .dataframe tbody tr th {\n",
       "        vertical-align: top;\n",
       "    }\n",
       "\n",
       "    .dataframe thead th {\n",
       "        text-align: right;\n",
       "    }\n",
       "</style>\n",
       "<table border=\"1\" class=\"dataframe\">\n",
       "  <thead>\n",
       "    <tr style=\"text-align: right;\">\n",
       "      <th></th>\n",
       "      <th>client_id</th>\n",
       "      <th>quantity</th>\n",
       "      <th>price</th>\n",
       "      <th>category_ids</th>\n",
       "      <th>date</th>\n",
       "      <th>message_id</th>\n",
       "    </tr>\n",
       "  </thead>\n",
       "  <tbody>\n",
       "    <tr>\n",
       "      <th>0</th>\n",
       "      <td>1515915625468169594</td>\n",
       "      <td>1</td>\n",
       "      <td>1999.0</td>\n",
       "      <td>['4', '28', '57', '431']</td>\n",
       "      <td>2022-05-16</td>\n",
       "      <td>1515915625468169594-4301-627b661e9736d</td>\n",
       "    </tr>\n",
       "    <tr>\n",
       "      <th>1</th>\n",
       "      <td>1515915625468169594</td>\n",
       "      <td>1</td>\n",
       "      <td>2499.0</td>\n",
       "      <td>['4', '28', '57', '431']</td>\n",
       "      <td>2022-05-16</td>\n",
       "      <td>1515915625468169594-4301-627b661e9736d</td>\n",
       "    </tr>\n",
       "    <tr>\n",
       "      <th>2</th>\n",
       "      <td>1515915625471138230</td>\n",
       "      <td>1</td>\n",
       "      <td>6499.0</td>\n",
       "      <td>['4', '28', '57', '431']</td>\n",
       "      <td>2022-05-16</td>\n",
       "      <td>1515915625471138230-4437-6282242f27843</td>\n",
       "    </tr>\n",
       "    <tr>\n",
       "      <th>3</th>\n",
       "      <td>1515915625471138230</td>\n",
       "      <td>1</td>\n",
       "      <td>4999.0</td>\n",
       "      <td>['4', '28', '244', '432']</td>\n",
       "      <td>2022-05-16</td>\n",
       "      <td>1515915625471138230-4437-6282242f27843</td>\n",
       "    </tr>\n",
       "    <tr>\n",
       "      <th>4</th>\n",
       "      <td>1515915625471138230</td>\n",
       "      <td>1</td>\n",
       "      <td>4999.0</td>\n",
       "      <td>['4', '28', '49', '413']</td>\n",
       "      <td>2022-05-16</td>\n",
       "      <td>1515915625471138230-4437-6282242f27843</td>\n",
       "    </tr>\n",
       "  </tbody>\n",
       "</table>\n",
       "</div>"
      ],
      "text/plain": [
       "             client_id  quantity   price               category_ids  \\\n",
       "0  1515915625468169594         1  1999.0   ['4', '28', '57', '431']   \n",
       "1  1515915625468169594         1  2499.0   ['4', '28', '57', '431']   \n",
       "2  1515915625471138230         1  6499.0   ['4', '28', '57', '431']   \n",
       "3  1515915625471138230         1  4999.0  ['4', '28', '244', '432']   \n",
       "4  1515915625471138230         1  4999.0   ['4', '28', '49', '413']   \n",
       "\n",
       "        date                              message_id  \n",
       "0 2022-05-16  1515915625468169594-4301-627b661e9736d  \n",
       "1 2022-05-16  1515915625468169594-4301-627b661e9736d  \n",
       "2 2022-05-16  1515915625471138230-4437-6282242f27843  \n",
       "3 2022-05-16  1515915625471138230-4437-6282242f27843  \n",
       "4 2022-05-16  1515915625471138230-4437-6282242f27843  "
      ]
     },
     "execution_count": 4,
     "metadata": {},
     "output_type": "execute_result"
    }
   ],
   "source": [
    "purchases = pd.read_csv('apparel-purchases.csv', parse_dates=['date'])\n",
    "purchases.head()"
   ]
  },
  {
   "cell_type": "code",
   "execution_count": 5,
   "id": "NfYoSMMt13KD",
   "metadata": {
    "colab": {
     "base_uri": "https://localhost:8080/",
     "height": 206
    },
    "id": "NfYoSMMt13KD",
    "outputId": "2f0057f7-d1c9-4eca-e1ae-88d3dda355af",
    "tags": []
   },
   "outputs": [
    {
     "data": {
      "text/html": [
       "<div>\n",
       "<style scoped>\n",
       "    .dataframe tbody tr th:only-of-type {\n",
       "        vertical-align: middle;\n",
       "    }\n",
       "\n",
       "    .dataframe tbody tr th {\n",
       "        vertical-align: top;\n",
       "    }\n",
       "\n",
       "    .dataframe thead th {\n",
       "        text-align: right;\n",
       "    }\n",
       "</style>\n",
       "<table border=\"1\" class=\"dataframe\">\n",
       "  <thead>\n",
       "    <tr style=\"text-align: right;\">\n",
       "      <th></th>\n",
       "      <th>bulk_campaign_id</th>\n",
       "      <th>client_id</th>\n",
       "      <th>message_id</th>\n",
       "      <th>event</th>\n",
       "      <th>channel</th>\n",
       "      <th>date</th>\n",
       "      <th>created_at</th>\n",
       "    </tr>\n",
       "  </thead>\n",
       "  <tbody>\n",
       "    <tr>\n",
       "      <th>0</th>\n",
       "      <td>4439</td>\n",
       "      <td>1515915625626736623</td>\n",
       "      <td>1515915625626736623-4439-6283415ac07ea</td>\n",
       "      <td>open</td>\n",
       "      <td>email</td>\n",
       "      <td>2022-05-19</td>\n",
       "      <td>2022-05-19 00:14:20</td>\n",
       "    </tr>\n",
       "    <tr>\n",
       "      <th>1</th>\n",
       "      <td>4439</td>\n",
       "      <td>1515915625490086521</td>\n",
       "      <td>1515915625490086521-4439-62834150016dd</td>\n",
       "      <td>open</td>\n",
       "      <td>email</td>\n",
       "      <td>2022-05-19</td>\n",
       "      <td>2022-05-19 00:39:34</td>\n",
       "    </tr>\n",
       "    <tr>\n",
       "      <th>2</th>\n",
       "      <td>4439</td>\n",
       "      <td>1515915625553578558</td>\n",
       "      <td>1515915625553578558-4439-6283415b36b4f</td>\n",
       "      <td>open</td>\n",
       "      <td>email</td>\n",
       "      <td>2022-05-19</td>\n",
       "      <td>2022-05-19 00:51:49</td>\n",
       "    </tr>\n",
       "    <tr>\n",
       "      <th>3</th>\n",
       "      <td>4439</td>\n",
       "      <td>1515915625553578558</td>\n",
       "      <td>1515915625553578558-4439-6283415b36b4f</td>\n",
       "      <td>click</td>\n",
       "      <td>email</td>\n",
       "      <td>2022-05-19</td>\n",
       "      <td>2022-05-19 00:52:20</td>\n",
       "    </tr>\n",
       "    <tr>\n",
       "      <th>4</th>\n",
       "      <td>4439</td>\n",
       "      <td>1515915625471518311</td>\n",
       "      <td>1515915625471518311-4439-628341570c133</td>\n",
       "      <td>open</td>\n",
       "      <td>email</td>\n",
       "      <td>2022-05-19</td>\n",
       "      <td>2022-05-19 00:56:52</td>\n",
       "    </tr>\n",
       "  </tbody>\n",
       "</table>\n",
       "</div>"
      ],
      "text/plain": [
       "   bulk_campaign_id            client_id  \\\n",
       "0              4439  1515915625626736623   \n",
       "1              4439  1515915625490086521   \n",
       "2              4439  1515915625553578558   \n",
       "3              4439  1515915625553578558   \n",
       "4              4439  1515915625471518311   \n",
       "\n",
       "                               message_id  event channel       date  \\\n",
       "0  1515915625626736623-4439-6283415ac07ea   open   email 2022-05-19   \n",
       "1  1515915625490086521-4439-62834150016dd   open   email 2022-05-19   \n",
       "2  1515915625553578558-4439-6283415b36b4f   open   email 2022-05-19   \n",
       "3  1515915625553578558-4439-6283415b36b4f  click   email 2022-05-19   \n",
       "4  1515915625471518311-4439-628341570c133   open   email 2022-05-19   \n",
       "\n",
       "           created_at  \n",
       "0 2022-05-19 00:14:20  \n",
       "1 2022-05-19 00:39:34  \n",
       "2 2022-05-19 00:51:49  \n",
       "3 2022-05-19 00:52:20  \n",
       "4 2022-05-19 00:56:52  "
      ]
     },
     "execution_count": 5,
     "metadata": {},
     "output_type": "execute_result"
    }
   ],
   "source": [
    "messages = pd.read_csv('apparel-messages.csv', parse_dates=['date', 'created_at'])\n",
    "messages.head()"
   ]
  },
  {
   "cell_type": "code",
   "execution_count": 6,
   "id": "jxkeTUDP2Av-",
   "metadata": {
    "colab": {
     "base_uri": "https://localhost:8080/",
     "height": 206
    },
    "id": "jxkeTUDP2Av-",
    "outputId": "2a427201-06b0-478c-c731-f6e249b76661",
    "tags": []
   },
   "outputs": [
    {
     "data": {
      "text/html": [
       "<div>\n",
       "<style scoped>\n",
       "    .dataframe tbody tr th:only-of-type {\n",
       "        vertical-align: middle;\n",
       "    }\n",
       "\n",
       "    .dataframe tbody tr th {\n",
       "        vertical-align: top;\n",
       "    }\n",
       "\n",
       "    .dataframe thead th {\n",
       "        text-align: right;\n",
       "    }\n",
       "</style>\n",
       "<table border=\"1\" class=\"dataframe\">\n",
       "  <thead>\n",
       "    <tr style=\"text-align: right;\">\n",
       "      <th></th>\n",
       "      <th>client_id</th>\n",
       "      <th>target</th>\n",
       "    </tr>\n",
       "  </thead>\n",
       "  <tbody>\n",
       "    <tr>\n",
       "      <th>0</th>\n",
       "      <td>1515915625468060902</td>\n",
       "      <td>0</td>\n",
       "    </tr>\n",
       "    <tr>\n",
       "      <th>1</th>\n",
       "      <td>1515915625468061003</td>\n",
       "      <td>1</td>\n",
       "    </tr>\n",
       "    <tr>\n",
       "      <th>2</th>\n",
       "      <td>1515915625468061099</td>\n",
       "      <td>0</td>\n",
       "    </tr>\n",
       "    <tr>\n",
       "      <th>3</th>\n",
       "      <td>1515915625468061100</td>\n",
       "      <td>0</td>\n",
       "    </tr>\n",
       "    <tr>\n",
       "      <th>4</th>\n",
       "      <td>1515915625468061170</td>\n",
       "      <td>0</td>\n",
       "    </tr>\n",
       "  </tbody>\n",
       "</table>\n",
       "</div>"
      ],
      "text/plain": [
       "             client_id  target\n",
       "0  1515915625468060902       0\n",
       "1  1515915625468061003       1\n",
       "2  1515915625468061099       0\n",
       "3  1515915625468061100       0\n",
       "4  1515915625468061170       0"
      ]
     },
     "execution_count": 6,
     "metadata": {},
     "output_type": "execute_result"
    }
   ],
   "source": [
    "target = pd.read_csv('apparel-target_binary.csv')\n",
    "target.head()"
   ]
  },
  {
   "cell_type": "markdown",
   "id": "bc07352b-c67c-4a61-8c92-fb0aa9ac765c",
   "metadata": {},
   "source": [
    "Датасеты корректно загружены в датафреймы."
   ]
  },
  {
   "cell_type": "markdown",
   "id": "5TEGfgr0KWL-",
   "metadata": {
    "id": "5TEGfgr0KWL-"
   },
   "source": [
    "## Анализ датафреймов"
   ]
  },
  {
   "cell_type": "markdown",
   "id": "25f58f86",
   "metadata": {
    "id": "25f58f86"
   },
   "source": [
    "### apparel-purchases"
   ]
  },
  {
   "cell_type": "code",
   "execution_count": 7,
   "id": "654d58b7",
   "metadata": {
    "colab": {
     "base_uri": "https://localhost:8080/"
    },
    "id": "654d58b7",
    "outputId": "a59e487f-5bd1-4e9e-9d01-1798aaece0e3",
    "tags": []
   },
   "outputs": [
    {
     "name": "stdout",
     "output_type": "stream",
     "text": [
      "<class 'pandas.core.frame.DataFrame'>\n",
      "RangeIndex: 202208 entries, 0 to 202207\n",
      "Data columns (total 6 columns):\n",
      " #   Column        Non-Null Count   Dtype         \n",
      "---  ------        --------------   -----         \n",
      " 0   client_id     202208 non-null  int64         \n",
      " 1   quantity      202208 non-null  int64         \n",
      " 2   price         202208 non-null  float64       \n",
      " 3   category_ids  202208 non-null  object        \n",
      " 4   date          202208 non-null  datetime64[ns]\n",
      " 5   message_id    202208 non-null  object        \n",
      "dtypes: datetime64[ns](1), float64(1), int64(2), object(2)\n",
      "memory usage: 9.3+ MB\n"
     ]
    }
   ],
   "source": [
    "purchases.info()"
   ]
  },
  {
   "cell_type": "markdown",
   "id": "p9DwQAsdT2bC",
   "metadata": {
    "id": "p9DwQAsdT2bC"
   },
   "source": [
    "В датафрейме более 200 тыс. строк и 6 столбцов, из них: 3 – числовые, 2 категориальные, 1 – дата.\n",
    "При чём значения в столбце **category_ids** выглядят как список, а на самом деле являются строкой. Необходимо будет преобразовать их в список.\n",
    "\n"
   ]
  },
  {
   "cell_type": "code",
   "execution_count": 8,
   "id": "f1c1ee6d",
   "metadata": {
    "colab": {
     "base_uri": "https://localhost:8080/"
    },
    "id": "f1c1ee6d",
    "outputId": "28a47bd1-894a-4b68-e3c5-97c579051bec",
    "tags": []
   },
   "outputs": [
    {
     "data": {
      "text/plain": [
       "73020"
      ]
     },
     "execution_count": 8,
     "metadata": {},
     "output_type": "execute_result"
    }
   ],
   "source": [
    "purchases.duplicated().sum()"
   ]
  },
  {
   "cell_type": "markdown",
   "id": "eqCKbLIjVqZa",
   "metadata": {
    "id": "eqCKbLIjVqZa"
   },
   "source": [
    "73 тыс. дубликатов из 200 тыс. строк. Удалим их."
   ]
  },
  {
   "cell_type": "code",
   "execution_count": 9,
   "id": "KANpHVpsLHW2",
   "metadata": {
    "id": "KANpHVpsLHW2",
    "tags": []
   },
   "outputs": [],
   "source": [
    "purchases = purchases.drop_duplicates()"
   ]
  },
  {
   "cell_type": "markdown",
   "id": "0CgiLbgEW3nK",
   "metadata": {
    "id": "0CgiLbgEW3nK"
   },
   "source": [
    "Разберемся с проблемой в столбце **category_ids**. Для начала преобразуем значения этого столбца в списки."
   ]
  },
  {
   "cell_type": "code",
   "execution_count": 10,
   "id": "ebumQK20V10b",
   "metadata": {
    "colab": {
     "base_uri": "https://localhost:8080/",
     "height": 112
    },
    "id": "ebumQK20V10b",
    "outputId": "49f0cbbc-6191-4773-aa4c-1b5f3e998405",
    "tags": []
   },
   "outputs": [
    {
     "data": {
      "text/html": [
       "<div>\n",
       "<style scoped>\n",
       "    .dataframe tbody tr th:only-of-type {\n",
       "        vertical-align: middle;\n",
       "    }\n",
       "\n",
       "    .dataframe tbody tr th {\n",
       "        vertical-align: top;\n",
       "    }\n",
       "\n",
       "    .dataframe thead th {\n",
       "        text-align: right;\n",
       "    }\n",
       "</style>\n",
       "<table border=\"1\" class=\"dataframe\">\n",
       "  <thead>\n",
       "    <tr style=\"text-align: right;\">\n",
       "      <th></th>\n",
       "      <th>client_id</th>\n",
       "      <th>quantity</th>\n",
       "      <th>price</th>\n",
       "      <th>category_ids</th>\n",
       "      <th>date</th>\n",
       "      <th>message_id</th>\n",
       "    </tr>\n",
       "  </thead>\n",
       "  <tbody>\n",
       "    <tr>\n",
       "      <th>0</th>\n",
       "      <td>1515915625468169594</td>\n",
       "      <td>1</td>\n",
       "      <td>1999.0</td>\n",
       "      <td>[4, 28, 57, 431]</td>\n",
       "      <td>2022-05-16</td>\n",
       "      <td>1515915625468169594-4301-627b661e9736d</td>\n",
       "    </tr>\n",
       "    <tr>\n",
       "      <th>1</th>\n",
       "      <td>1515915625468169594</td>\n",
       "      <td>1</td>\n",
       "      <td>2499.0</td>\n",
       "      <td>[4, 28, 57, 431]</td>\n",
       "      <td>2022-05-16</td>\n",
       "      <td>1515915625468169594-4301-627b661e9736d</td>\n",
       "    </tr>\n",
       "  </tbody>\n",
       "</table>\n",
       "</div>"
      ],
      "text/plain": [
       "             client_id  quantity   price      category_ids       date  \\\n",
       "0  1515915625468169594         1  1999.0  [4, 28, 57, 431] 2022-05-16   \n",
       "1  1515915625468169594         1  2499.0  [4, 28, 57, 431] 2022-05-16   \n",
       "\n",
       "                               message_id  \n",
       "0  1515915625468169594-4301-627b661e9736d  \n",
       "1  1515915625468169594-4301-627b661e9736d  "
      ]
     },
     "execution_count": 10,
     "metadata": {},
     "output_type": "execute_result"
    }
   ],
   "source": [
    "purchases['category_ids'] = purchases['category_ids'].apply(convert_str_lst)\n",
    "purchases.head(2)"
   ]
  },
  {
   "cell_type": "code",
   "execution_count": 11,
   "id": "7e001f43-22a5-44dd-8c73-f7976fec02be",
   "metadata": {
    "tags": []
   },
   "outputs": [
    {
     "data": {
      "text/plain": [
       "4"
      ]
     },
     "execution_count": 11,
     "metadata": {},
     "output_type": "execute_result"
    }
   ],
   "source": [
    "purchases.category_ids[0][0]"
   ]
  },
  {
   "cell_type": "code",
   "execution_count": 12,
   "id": "7b14e581",
   "metadata": {
    "colab": {
     "base_uri": "https://localhost:8080/",
     "height": 272
    },
    "id": "7b14e581",
    "outputId": "07c9d4e3-664e-481a-fb15-46c142f09697",
    "tags": []
   },
   "outputs": [
    {
     "data": {
      "text/plain": [
       "client_id       0.000000\n",
       "quantity        0.000000\n",
       "price           0.000000\n",
       "category_ids    0.026009\n",
       "date            0.000000\n",
       "message_id      0.000000\n",
       "dtype: float64"
      ]
     },
     "execution_count": 12,
     "metadata": {},
     "output_type": "execute_result"
    }
   ],
   "source": [
    "purchases.isna().mean()"
   ]
  },
  {
   "cell_type": "code",
   "execution_count": 13,
   "id": "3a00fa57",
   "metadata": {
    "colab": {
     "base_uri": "https://localhost:8080/",
     "height": 164
    },
    "id": "3a00fa57",
    "outputId": "953b6383-22d0-4624-c617-65d6fb708eaf",
    "tags": []
   },
   "outputs": [
    {
     "name": "stdout",
     "output_type": "stream",
     "text": [
      "(129188, 6)\n"
     ]
    },
    {
     "data": {
      "text/plain": [
       "client_id     49849\n",
       "message_id    50204\n",
       "dtype: int64"
      ]
     },
     "execution_count": 13,
     "metadata": {},
     "output_type": "execute_result"
    }
   ],
   "source": [
    "print(purchases.shape)\n",
    "purchases[['client_id', 'message_id', ]].nunique()\n"
   ]
  },
  {
   "cell_type": "code",
   "execution_count": 14,
   "id": "aa2fdcea",
   "metadata": {
    "colab": {
     "base_uri": "https://localhost:8080/",
     "height": 723
    },
    "id": "aa2fdcea",
    "outputId": "e8704b64-1025-4020-bb06-c7086107a18d",
    "tags": []
   },
   "outputs": [
    {
     "data": {
      "image/png": "[encoded data removed]",
      "text/plain": [
       "<Figure size 600x400 with 1 Axes>"
      ]
     },
     "metadata": {},
     "output_type": "display_data"
    }
   ],
   "source": [
    "plt.figure(figsize=(6,4))\n",
    "sns.histplot(purchases['quantity'],log_scale=True)\n",
    "plt.title('Гистограмма распределения признака quantity');\n"
   ]
  },
  {
   "cell_type": "code",
   "execution_count": 15,
   "id": "4b5a6fde",
   "metadata": {
    "colab": {
     "base_uri": "https://localhost:8080/",
     "height": 723
    },
    "id": "4b5a6fde",
    "outputId": "8fd740ff-17f6-4a50-ea22-028014f8bc0f",
    "tags": []
   },
   "outputs": [
    {
     "data": {
      "image/png": "[encoded data removed]",
      "text/plain": [
       "<Figure size 600x400 with 1 Axes>"
      ]
     },
     "metadata": {},
     "output_type": "display_data"
    }
   ],
   "source": [
    "plt.figure(figsize=(6,4))\n",
    "sns.boxplot(data=purchases, x='quantity', log_scale=True)\n",
    "plt.title('Boxplot для признака quantity');"
   ]
  },
  {
   "cell_type": "code",
   "execution_count": 16,
   "id": "7f2440d8",
   "metadata": {
    "colab": {
     "base_uri": "https://localhost:8080/",
     "height": 617
    },
    "id": "7f2440d8",
    "outputId": "0565525a-4a9e-4495-a9b9-adbe31616643",
    "scrolled": true,
    "tags": []
   },
   "outputs": [
    {
     "data": {
      "text/plain": [
       "quantity\n",
       "1     0.99\n",
       "2     0.01\n",
       "3     0.00\n",
       "4     0.00\n",
       "6     0.00\n",
       "10    0.00\n",
       "15    0.00\n",
       "5     0.00\n",
       "25    0.00\n",
       "20    0.00\n",
       "30    0.00\n",
       "13    0.00\n",
       "18    0.00\n",
       "8     0.00\n",
       "9     0.00\n",
       "7     0.00\n",
       "Name: proportion, dtype: float64"
      ]
     },
     "execution_count": 16,
     "metadata": {},
     "output_type": "execute_result"
    }
   ],
   "source": [
    "purchases['quantity'].value_counts(normalize=True).round(2)"
   ]
  },
  {
   "cell_type": "markdown",
   "id": "c9ELQrP8NYXO",
   "metadata": {
    "id": "c9ELQrP8NYXO"
   },
   "source": [
    "Чаще всего (в 99% случаев) в заказе количество товаров  = 1."
   ]
  },
  {
   "cell_type": "code",
   "execution_count": 17,
   "id": "b563f177",
   "metadata": {
    "colab": {
     "base_uri": "https://localhost:8080/",
     "height": 471
    },
    "id": "b563f177",
    "outputId": "856a13ca-0692-4410-9309-348dfc03be31",
    "tags": []
   },
   "outputs": [
    {
     "data": {
      "image/png": "[encoded data removed]",
      "text/plain": [
       "<Figure size 600x400 with 1 Axes>"
      ]
     },
     "metadata": {},
     "output_type": "display_data"
    }
   ],
   "source": [
    "plt.figure(figsize=(6,4))\n",
    "sns.histplot(data=purchases, x='price', log_scale=True)\n",
    "plt.title('Гистограмма для признака price');"
   ]
  },
  {
   "cell_type": "code",
   "execution_count": 18,
   "id": "d8345d17",
   "metadata": {
    "colab": {
     "base_uri": "https://localhost:8080/",
     "height": 454
    },
    "id": "d8345d17",
    "outputId": "babd9a09-1c49-4032-a501-bbd562f1223f",
    "tags": []
   },
   "outputs": [
    {
     "data": {
      "image/png": "[encoded data removed]",
      "text/plain": [
       "<Figure size 600x400 with 1 Axes>"
      ]
     },
     "metadata": {},
     "output_type": "display_data"
    }
   ],
   "source": [
    "plt.figure(figsize=(6,4))\n",
    "sns.boxplot(data=purchases, x='price', log_scale=True)\n",
    "plt.title('Boxplot для переменной price')\n",
    "plt.grid()"
   ]
  },
  {
   "cell_type": "code",
   "execution_count": 19,
   "id": "e9f63473",
   "metadata": {
    "colab": {
     "base_uri": "https://localhost:8080/"
    },
    "id": "e9f63473",
    "outputId": "6d1d9d24-e90f-4b12-d055-601bbcf226a9",
    "tags": []
   },
   "outputs": [
    {
     "name": "stdout",
     "output_type": "stream",
     "text": [
      "Граница нижняя: 20, граница верхняя: 12589\n"
     ]
    }
   ],
   "source": [
    "print(f\"Граница нижняя: {10**1.3:.0f}, граница верхняя: {10**4.1:.0f}\")"
   ]
  },
  {
   "cell_type": "code",
   "execution_count": 20,
   "id": "c710df54",
   "metadata": {
    "colab": {
     "base_uri": "https://localhost:8080/",
     "height": 575
    },
    "id": "c710df54",
    "outputId": "7f8ece42-f213-4e7b-9ef7-f5a810ca5cd4",
    "tags": []
   },
   "outputs": [
    {
     "data": {
      "image/png": "[encoded data removed]",
      "text/plain": [
       "<Figure size 1200x600 with 1 Axes>"
      ]
     },
     "metadata": {},
     "output_type": "display_data"
    }
   ],
   "source": [
    "purchases['date'].value_counts().sort_index().plot(kind='line', figsize=(12, 6))\n",
    "plt.title('Количество покупок по месяцам')\n",
    "plt.show()"
   ]
  },
  {
   "cell_type": "markdown",
   "id": "6c28491f-03c5-40f5-9bb6-3a48d6b04812",
   "metadata": {},
   "source": [
    "По графику видно, что больше всего покупок было в ноябре 2022 и мае - июне 2023."
   ]
  },
  {
   "cell_type": "code",
   "execution_count": 21,
   "id": "c184c902",
   "metadata": {
    "colab": {
     "base_uri": "https://localhost:8080/",
     "height": 421
    },
    "id": "c184c902",
    "outputId": "4605eaf5-0642-4c8d-c958-7eb1ae4d8342",
    "tags": []
   },
   "outputs": [
    {
     "data": {
      "image/png": "[encoded data removed]",
      "text/plain": [
       "<Figure size 1200x400 with 1 Axes>"
      ]
     },
     "metadata": {},
     "output_type": "display_data"
    }
   ],
   "source": [
    "purchases.groupby('date').agg({'price':'sum'}).plot(kind='line', figsize=(12, 4))\n",
    "plt.title('Сумма покупок по месяцам')\n",
    "plt.show()"
   ]
  },
  {
   "cell_type": "markdown",
   "id": "af3348e6-d87d-47c0-8870-dc3bfea0a990",
   "metadata": {},
   "source": [
    "Соответственно и сумма покупок была больше в эти месяцы."
   ]
  },
  {
   "cell_type": "markdown",
   "id": "Jumga6A4AXvs",
   "metadata": {
    "id": "Jumga6A4AXvs"
   },
   "source": [
    "#### Создание признаков на основе категории товаров\n"
   ]
  },
  {
   "cell_type": "markdown",
   "id": "7313eb41-dd4c-42aa-8508-9e8bae206219",
   "metadata": {},
   "source": [
    "Создадим признаки на основе колонки **category_ids**."
   ]
  },
  {
   "cell_type": "code",
   "execution_count": 22,
   "id": "909883b0-14af-4065-b028-bb4cacac5510",
   "metadata": {
    "tags": []
   },
   "outputs": [
    {
     "data": {
      "text/html": [
       "<div>\n",
       "<style scoped>\n",
       "    .dataframe tbody tr th:only-of-type {\n",
       "        vertical-align: middle;\n",
       "    }\n",
       "\n",
       "    .dataframe tbody tr th {\n",
       "        vertical-align: top;\n",
       "    }\n",
       "\n",
       "    .dataframe thead th {\n",
       "        text-align: right;\n",
       "    }\n",
       "</style>\n",
       "<table border=\"1\" class=\"dataframe\">\n",
       "  <thead>\n",
       "    <tr style=\"text-align: right;\">\n",
       "      <th></th>\n",
       "      <th>client_id</th>\n",
       "      <th>quantity</th>\n",
       "      <th>price</th>\n",
       "      <th>category_ids</th>\n",
       "      <th>date</th>\n",
       "      <th>message_id</th>\n",
       "    </tr>\n",
       "  </thead>\n",
       "  <tbody>\n",
       "    <tr>\n",
       "      <th>0</th>\n",
       "      <td>1515915625468169594</td>\n",
       "      <td>1</td>\n",
       "      <td>1999.0</td>\n",
       "      <td>[4, 28, 57, 431]</td>\n",
       "      <td>2022-05-16</td>\n",
       "      <td>1515915625468169594-4301-627b661e9736d</td>\n",
       "    </tr>\n",
       "    <tr>\n",
       "      <th>1</th>\n",
       "      <td>1515915625468169594</td>\n",
       "      <td>1</td>\n",
       "      <td>2499.0</td>\n",
       "      <td>[4, 28, 57, 431]</td>\n",
       "      <td>2022-05-16</td>\n",
       "      <td>1515915625468169594-4301-627b661e9736d</td>\n",
       "    </tr>\n",
       "    <tr>\n",
       "      <th>2</th>\n",
       "      <td>1515915625471138230</td>\n",
       "      <td>1</td>\n",
       "      <td>6499.0</td>\n",
       "      <td>[4, 28, 57, 431]</td>\n",
       "      <td>2022-05-16</td>\n",
       "      <td>1515915625471138230-4437-6282242f27843</td>\n",
       "    </tr>\n",
       "    <tr>\n",
       "      <th>3</th>\n",
       "      <td>1515915625471138230</td>\n",
       "      <td>1</td>\n",
       "      <td>4999.0</td>\n",
       "      <td>[4, 28, 244, 432]</td>\n",
       "      <td>2022-05-16</td>\n",
       "      <td>1515915625471138230-4437-6282242f27843</td>\n",
       "    </tr>\n",
       "    <tr>\n",
       "      <th>4</th>\n",
       "      <td>1515915625471138230</td>\n",
       "      <td>1</td>\n",
       "      <td>4999.0</td>\n",
       "      <td>[4, 28, 49, 413]</td>\n",
       "      <td>2022-05-16</td>\n",
       "      <td>1515915625471138230-4437-6282242f27843</td>\n",
       "    </tr>\n",
       "    <tr>\n",
       "      <th>...</th>\n",
       "      <td>...</td>\n",
       "      <td>...</td>\n",
       "      <td>...</td>\n",
       "      <td>...</td>\n",
       "      <td>...</td>\n",
       "      <td>...</td>\n",
       "    </tr>\n",
       "    <tr>\n",
       "      <th>202196</th>\n",
       "      <td>1515915626010221592</td>\n",
       "      <td>1</td>\n",
       "      <td>1499.0</td>\n",
       "      <td>[4, 28, 260, 1194]</td>\n",
       "      <td>2024-02-16</td>\n",
       "      <td>1515915626010221592-14664-65cf1622434a9</td>\n",
       "    </tr>\n",
       "    <tr>\n",
       "      <th>202198</th>\n",
       "      <td>1515915626010261344</td>\n",
       "      <td>1</td>\n",
       "      <td>1499.0</td>\n",
       "      <td>[2, 18, 212, 726]</td>\n",
       "      <td>2024-02-16</td>\n",
       "      <td>1515915626010261344-14648-65cdb6d56c4c8</td>\n",
       "    </tr>\n",
       "    <tr>\n",
       "      <th>202204</th>\n",
       "      <td>1515915626010439406</td>\n",
       "      <td>1</td>\n",
       "      <td>99.0</td>\n",
       "      <td>[4, 27, 233, 462]</td>\n",
       "      <td>2024-02-16</td>\n",
       "      <td>1515915625776605028-14662-65cf3abfe4f0d</td>\n",
       "    </tr>\n",
       "    <tr>\n",
       "      <th>202206</th>\n",
       "      <td>1515915626010443527</td>\n",
       "      <td>1</td>\n",
       "      <td>1999.0</td>\n",
       "      <td>[2, 18, 274, 446]</td>\n",
       "      <td>2024-02-16</td>\n",
       "      <td>1515915625766077627-14668-65cf5246bd490</td>\n",
       "    </tr>\n",
       "    <tr>\n",
       "      <th>202207</th>\n",
       "      <td>1515915626010443624</td>\n",
       "      <td>1</td>\n",
       "      <td>999.0</td>\n",
       "      <td>[4, 28, 62, 656]</td>\n",
       "      <td>2024-02-16</td>\n",
       "      <td>1515915625488468007-14668-65cf5234b1295</td>\n",
       "    </tr>\n",
       "  </tbody>\n",
       "</table>\n",
       "<p>129188 rows × 6 columns</p>\n",
       "</div>"
      ],
      "text/plain": [
       "                  client_id  quantity   price        category_ids       date  \\\n",
       "0       1515915625468169594         1  1999.0    [4, 28, 57, 431] 2022-05-16   \n",
       "1       1515915625468169594         1  2499.0    [4, 28, 57, 431] 2022-05-16   \n",
       "2       1515915625471138230         1  6499.0    [4, 28, 57, 431] 2022-05-16   \n",
       "3       1515915625471138230         1  4999.0   [4, 28, 244, 432] 2022-05-16   \n",
       "4       1515915625471138230         1  4999.0    [4, 28, 49, 413] 2022-05-16   \n",
       "...                     ...       ...     ...                 ...        ...   \n",
       "202196  1515915626010221592         1  1499.0  [4, 28, 260, 1194] 2024-02-16   \n",
       "202198  1515915626010261344         1  1499.0   [2, 18, 212, 726] 2024-02-16   \n",
       "202204  1515915626010439406         1    99.0   [4, 27, 233, 462] 2024-02-16   \n",
       "202206  1515915626010443527         1  1999.0   [2, 18, 274, 446] 2024-02-16   \n",
       "202207  1515915626010443624         1   999.0    [4, 28, 62, 656] 2024-02-16   \n",
       "\n",
       "                                     message_id  \n",
       "0        1515915625468169594-4301-627b661e9736d  \n",
       "1        1515915625468169594-4301-627b661e9736d  \n",
       "2        1515915625471138230-4437-6282242f27843  \n",
       "3        1515915625471138230-4437-6282242f27843  \n",
       "4        1515915625471138230-4437-6282242f27843  \n",
       "...                                         ...  \n",
       "202196  1515915626010221592-14664-65cf1622434a9  \n",
       "202198  1515915626010261344-14648-65cdb6d56c4c8  \n",
       "202204  1515915625776605028-14662-65cf3abfe4f0d  \n",
       "202206  1515915625766077627-14668-65cf5246bd490  \n",
       "202207  1515915625488468007-14668-65cf5234b1295  \n",
       "\n",
       "[129188 rows x 6 columns]"
      ]
     },
     "execution_count": 22,
     "metadata": {},
     "output_type": "execute_result"
    }
   ],
   "source": [
    "purchases"
   ]
  },
  {
   "cell_type": "code",
   "execution_count": 23,
   "id": "0a99f54c-54b0-4c88-9152-6bf5693ffee0",
   "metadata": {
    "id": "0a99f54c-54b0-4c88-9152-6bf5693ffee0",
    "tags": []
   },
   "outputs": [],
   "source": [
    "purchases['level_0'] = purchases['category_ids'].apply(lambda x: np.nan if x is np.nan else x[0])\n",
    "purchases['level_1'] = purchases['category_ids'].apply(lambda x: np.nan if x is np.nan else x[1])\n",
    "purchases['level_2'] = purchases['category_ids'].apply(lambda x: np.nan if x is np.nan else x[2])\n",
    "purchases['level_3'] = purchases['category_ids'].apply(lambda x: np.nan if x is np.nan else x[-1])"
   ]
  },
  {
   "cell_type": "markdown",
   "id": "672ac1da-55a3-4eae-87aa-00b3eac7ea5f",
   "metadata": {},
   "source": [
    "Для каждого клиента вычисли сколько уникальных товаров он покупает на каждом уровне."
   ]
  },
  {
   "cell_type": "code",
   "execution_count": 24,
   "id": "f2d9718a-966b-408f-8e64-04da22a6dc1a",
   "metadata": {
    "id": "f2d9718a-966b-408f-8e64-04da22a6dc1a",
    "tags": []
   },
   "outputs": [
    {
     "data": {
      "text/html": [
       "<div>\n",
       "<style scoped>\n",
       "    .dataframe tbody tr th:only-of-type {\n",
       "        vertical-align: middle;\n",
       "    }\n",
       "\n",
       "    .dataframe tbody tr th {\n",
       "        vertical-align: top;\n",
       "    }\n",
       "\n",
       "    .dataframe thead th {\n",
       "        text-align: right;\n",
       "    }\n",
       "</style>\n",
       "<table border=\"1\" class=\"dataframe\">\n",
       "  <thead>\n",
       "    <tr style=\"text-align: right;\">\n",
       "      <th></th>\n",
       "      <th>level_0_unique</th>\n",
       "      <th>level_1_unique</th>\n",
       "      <th>level_2_unique</th>\n",
       "      <th>level_3_unique</th>\n",
       "    </tr>\n",
       "    <tr>\n",
       "      <th>client_id</th>\n",
       "      <th></th>\n",
       "      <th></th>\n",
       "      <th></th>\n",
       "      <th></th>\n",
       "    </tr>\n",
       "  </thead>\n",
       "  <tbody>\n",
       "    <tr>\n",
       "      <th>1515915625468060902</th>\n",
       "      <td>1</td>\n",
       "      <td>2</td>\n",
       "      <td>5</td>\n",
       "      <td>5</td>\n",
       "    </tr>\n",
       "    <tr>\n",
       "      <th>1515915625468061003</th>\n",
       "      <td>1</td>\n",
       "      <td>1</td>\n",
       "      <td>1</td>\n",
       "      <td>1</td>\n",
       "    </tr>\n",
       "    <tr>\n",
       "      <th>1515915625468061099</th>\n",
       "      <td>1</td>\n",
       "      <td>1</td>\n",
       "      <td>1</td>\n",
       "      <td>1</td>\n",
       "    </tr>\n",
       "    <tr>\n",
       "      <th>1515915625468061100</th>\n",
       "      <td>1</td>\n",
       "      <td>1</td>\n",
       "      <td>1</td>\n",
       "      <td>1</td>\n",
       "    </tr>\n",
       "    <tr>\n",
       "      <th>1515915625468061170</th>\n",
       "      <td>2</td>\n",
       "      <td>2</td>\n",
       "      <td>3</td>\n",
       "      <td>3</td>\n",
       "    </tr>\n",
       "  </tbody>\n",
       "</table>\n",
       "</div>"
      ],
      "text/plain": [
       "                     level_0_unique  level_1_unique  level_2_unique  \\\n",
       "client_id                                                             \n",
       "1515915625468060902               1               2               5   \n",
       "1515915625468061003               1               1               1   \n",
       "1515915625468061099               1               1               1   \n",
       "1515915625468061100               1               1               1   \n",
       "1515915625468061170               2               2               3   \n",
       "\n",
       "                     level_3_unique  \n",
       "client_id                            \n",
       "1515915625468060902               5  \n",
       "1515915625468061003               1  \n",
       "1515915625468061099               1  \n",
       "1515915625468061100               1  \n",
       "1515915625468061170               3  "
      ]
     },
     "execution_count": 24,
     "metadata": {},
     "output_type": "execute_result"
    }
   ],
   "source": [
    "purchases_diversity = purchases.groupby('client_id').agg(level_0_unique=('level_0', 'nunique'),\n",
    "                                   level_1_unique=('level_1', 'nunique'),\n",
    "                                   level_2_unique=('level_2', 'nunique'),\n",
    "                                   level_3_unique=('level_3', 'nunique'))\n",
    "purchases_diversity.head()"
   ]
  },
  {
   "cell_type": "markdown",
   "id": "3e65bea4-5eef-4ec3-9769-7efdd608a3dd",
   "metadata": {
    "id": "3e65bea4-5eef-4ec3-9769-7efdd608a3dd",
    "tags": []
   },
   "source": [
    "#### Создание признаков на основе количества и цены товаров"
   ]
  },
  {
   "cell_type": "markdown",
   "id": "4daeb66c-2439-4b13-9cf0-7938d11172d1",
   "metadata": {},
   "source": [
    "Вычислим для каждого клиента среднее количество товаров и среднюю цену за покупку, а также любимую категорию (подкатегорию) на уровне 0 и 1."
   ]
  },
  {
   "cell_type": "code",
   "execution_count": 25,
   "id": "49d65d11-93c9-405a-89ef-024f61fed543",
   "metadata": {
    "id": "49d65d11-93c9-405a-89ef-024f61fed543",
    "tags": []
   },
   "outputs": [],
   "source": [
    "purchases[['level_0', 'level_1', 'level_2']] = purchases[['level_0', 'level_1', 'level_2']].fillna(0)"
   ]
  },
  {
   "cell_type": "code",
   "execution_count": 26,
   "id": "S0qDz-8eAbHz",
   "metadata": {
    "colab": {
     "base_uri": "https://localhost:8080/",
     "height": 143
    },
    "id": "S0qDz-8eAbHz",
    "outputId": "2d739510-e27e-4e2d-eee4-c2a0dd9924bd",
    "tags": []
   },
   "outputs": [
    {
     "data": {
      "text/html": [
       "<div>\n",
       "<style scoped>\n",
       "    .dataframe tbody tr th:only-of-type {\n",
       "        vertical-align: middle;\n",
       "    }\n",
       "\n",
       "    .dataframe tbody tr th {\n",
       "        vertical-align: top;\n",
       "    }\n",
       "\n",
       "    .dataframe thead th {\n",
       "        text-align: right;\n",
       "    }\n",
       "</style>\n",
       "<table border=\"1\" class=\"dataframe\">\n",
       "  <thead>\n",
       "    <tr style=\"text-align: right;\">\n",
       "      <th></th>\n",
       "      <th>quantity_mean</th>\n",
       "      <th>price_mean</th>\n",
       "      <th>level_0_mode</th>\n",
       "      <th>level_1_mode</th>\n",
       "    </tr>\n",
       "    <tr>\n",
       "      <th>client_id</th>\n",
       "      <th></th>\n",
       "      <th></th>\n",
       "      <th></th>\n",
       "      <th></th>\n",
       "    </tr>\n",
       "  </thead>\n",
       "  <tbody>\n",
       "    <tr>\n",
       "      <th>1515915625468060902</th>\n",
       "      <td>1.0</td>\n",
       "      <td>959.000000</td>\n",
       "      <td>4.0</td>\n",
       "      <td>28.0</td>\n",
       "    </tr>\n",
       "    <tr>\n",
       "      <th>1515915625468061003</th>\n",
       "      <td>1.0</td>\n",
       "      <td>2355.833333</td>\n",
       "      <td>4.0</td>\n",
       "      <td>28.0</td>\n",
       "    </tr>\n",
       "  </tbody>\n",
       "</table>\n",
       "</div>"
      ],
      "text/plain": [
       "                     quantity_mean   price_mean  level_0_mode  level_1_mode\n",
       "client_id                                                                  \n",
       "1515915625468060902            1.0   959.000000           4.0          28.0\n",
       "1515915625468061003            1.0  2355.833333           4.0          28.0"
      ]
     },
     "execution_count": 26,
     "metadata": {},
     "output_type": "execute_result"
    }
   ],
   "source": [
    "purchases_agg = purchases.groupby('client_id').agg(quantity_mean=('quantity', 'mean'),\n",
    "                                   price_mean=('price', 'mean'),\n",
    "                                   level_0_mode=('level_0', lambda x: x.mode().iloc[0]),\n",
    "                                   level_1_mode=('level_1', lambda x: x.mode().iloc[0]))\n",
    "purchases_agg.head(2)"
   ]
  },
  {
   "cell_type": "markdown",
   "id": "58383f72-0360-4032-83f5-65182270eb4b",
   "metadata": {
    "id": "58383f72-0360-4032-83f5-65182270eb4b"
   },
   "source": [
    "#### Создание признака среднее количестов покупок в месяц"
   ]
  },
  {
   "cell_type": "markdown",
   "id": "2ed78955-75ca-4a68-a9db-fe2574bda1cc",
   "metadata": {},
   "source": [
    "Вычислим для каждого клиента среднее количество товаров и среднюю цену за месяц."
   ]
  },
  {
   "cell_type": "code",
   "execution_count": 27,
   "id": "RaATe41rAbOt",
   "metadata": {
    "id": "RaATe41rAbOt",
    "tags": []
   },
   "outputs": [],
   "source": [
    "purchases['start_month'] = purchases['date'].dt.to_period('M').dt.to_timestamp()"
   ]
  },
  {
   "cell_type": "code",
   "execution_count": 28,
   "id": "EQt2RgZMAbQs",
   "metadata": {
    "colab": {
     "base_uri": "https://localhost:8080/",
     "height": 175
    },
    "id": "EQt2RgZMAbQs",
    "outputId": "2021880b-f652-42c8-b690-febf4c30b0fa",
    "tags": []
   },
   "outputs": [
    {
     "data": {
      "text/html": [
       "<div>\n",
       "<style scoped>\n",
       "    .dataframe tbody tr th:only-of-type {\n",
       "        vertical-align: middle;\n",
       "    }\n",
       "\n",
       "    .dataframe tbody tr th {\n",
       "        vertical-align: top;\n",
       "    }\n",
       "\n",
       "    .dataframe thead th {\n",
       "        text-align: right;\n",
       "    }\n",
       "</style>\n",
       "<table border=\"1\" class=\"dataframe\">\n",
       "  <thead>\n",
       "    <tr style=\"text-align: right;\">\n",
       "      <th></th>\n",
       "      <th>month_quantity_mean</th>\n",
       "      <th>month_price_mean</th>\n",
       "    </tr>\n",
       "    <tr>\n",
       "      <th>client_id</th>\n",
       "      <th></th>\n",
       "      <th></th>\n",
       "    </tr>\n",
       "  </thead>\n",
       "  <tbody>\n",
       "    <tr>\n",
       "      <th>1515915625468060902</th>\n",
       "      <td>5.0</td>\n",
       "      <td>4795.0</td>\n",
       "    </tr>\n",
       "    <tr>\n",
       "      <th>1515915625468061003</th>\n",
       "      <td>6.0</td>\n",
       "      <td>14135.0</td>\n",
       "    </tr>\n",
       "  </tbody>\n",
       "</table>\n",
       "</div>"
      ],
      "text/plain": [
       "                     month_quantity_mean  month_price_mean\n",
       "client_id                                                 \n",
       "1515915625468060902                  5.0            4795.0\n",
       "1515915625468061003                  6.0           14135.0"
      ]
     },
     "execution_count": 28,
     "metadata": {},
     "output_type": "execute_result"
    }
   ],
   "source": [
    "purchases_by_month = purchases.groupby(['client_id', 'start_month']).agg(month_quantity_mean=('quantity', 'sum'),\n",
    "                                                                         month_price_mean=('price', 'sum')) \\\n",
    "                              .groupby('client_id').agg({'month_quantity_mean':'mean',\n",
    "                                                         'month_price_mean':'mean'})\n",
    "purchases_by_month.head(2)"
   ]
  },
  {
   "cell_type": "markdown",
   "id": "0fcb50cb-fc25-49a4-9d27-786a9d64106c",
   "metadata": {
    "id": "0fcb50cb-fc25-49a4-9d27-786a9d64106c"
   },
   "source": [
    "#### Создание признаков на основе message_id"
   ]
  },
  {
   "cell_type": "markdown",
   "id": "dbc843c0-febd-4dd7-9a69-b217492d28e3",
   "metadata": {
    "colab": {
     "base_uri": "https://localhost:8080/",
     "height": 293
    },
    "id": "4b49e130-2e03-4b8a-9975-fcaa72ceafb5",
    "outputId": "7a4a879e-af03-4701-b495-67f0cc849a56"
   },
   "source": [
    "Вычислим для каждого клиента среднее количество товаров и среднюю цену за одну рекламную рассылку после которой клиент принял решение купить какой либо товар."
   ]
  },
  {
   "cell_type": "code",
   "execution_count": 29,
   "id": "144ee081-b710-40c3-b81d-b205d1dbeb4d",
   "metadata": {
    "colab": {
     "base_uri": "https://localhost:8080/",
     "height": 175
    },
    "id": "144ee081-b710-40c3-b81d-b205d1dbeb4d",
    "outputId": "c7f830b5-3da2-4849-f418-79ed207326ee",
    "tags": []
   },
   "outputs": [
    {
     "data": {
      "text/html": [
       "<div>\n",
       "<style scoped>\n",
       "    .dataframe tbody tr th:only-of-type {\n",
       "        vertical-align: middle;\n",
       "    }\n",
       "\n",
       "    .dataframe tbody tr th {\n",
       "        vertical-align: top;\n",
       "    }\n",
       "\n",
       "    .dataframe thead th {\n",
       "        text-align: right;\n",
       "    }\n",
       "</style>\n",
       "<table border=\"1\" class=\"dataframe\">\n",
       "  <thead>\n",
       "    <tr style=\"text-align: right;\">\n",
       "      <th></th>\n",
       "      <th>quantity_by_message</th>\n",
       "      <th>price_by_message</th>\n",
       "    </tr>\n",
       "    <tr>\n",
       "      <th>client_id</th>\n",
       "      <th></th>\n",
       "      <th></th>\n",
       "    </tr>\n",
       "  </thead>\n",
       "  <tbody>\n",
       "    <tr>\n",
       "      <th>1515915625468060902</th>\n",
       "      <td>5.0</td>\n",
       "      <td>4795.0</td>\n",
       "    </tr>\n",
       "    <tr>\n",
       "      <th>1515915625468061003</th>\n",
       "      <td>6.0</td>\n",
       "      <td>14135.0</td>\n",
       "    </tr>\n",
       "  </tbody>\n",
       "</table>\n",
       "</div>"
      ],
      "text/plain": [
       "                     quantity_by_message  price_by_message\n",
       "client_id                                                 \n",
       "1515915625468060902                  5.0            4795.0\n",
       "1515915625468061003                  6.0           14135.0"
      ]
     },
     "execution_count": 29,
     "metadata": {},
     "output_type": "execute_result"
    }
   ],
   "source": [
    "purchases_by_message = purchases.groupby(['client_id', 'message_id']).agg(quantity_by_message=('quantity', 'sum'),\n",
    "                                                   price_by_message=('price','sum')) \\\n",
    "                                .groupby('client_id').agg({'quantity_by_message':'mean',\n",
    "                                                            'price_by_message':'mean'}).round(2)\n",
    "purchases_by_message.head(2)"
   ]
  },
  {
   "cell_type": "markdown",
   "id": "5c1035fc",
   "metadata": {
    "id": "5c1035fc",
    "tags": []
   },
   "source": [
    "### apparel-messages"
   ]
  },
  {
   "cell_type": "code",
   "execution_count": 30,
   "id": "23d1c3c4",
   "metadata": {
    "colab": {
     "base_uri": "https://localhost:8080/"
    },
    "id": "23d1c3c4",
    "outputId": "56bc7f5f-e307-435c-a1a5-9d8ca911fe2c",
    "scrolled": true,
    "tags": []
   },
   "outputs": [
    {
     "name": "stdout",
     "output_type": "stream",
     "text": [
      "<class 'pandas.core.frame.DataFrame'>\n",
      "RangeIndex: 12739798 entries, 0 to 12739797\n",
      "Data columns (total 7 columns):\n",
      " #   Column            Dtype         \n",
      "---  ------            -----         \n",
      " 0   bulk_campaign_id  int64         \n",
      " 1   client_id         int64         \n",
      " 2   message_id        object        \n",
      " 3   event             object        \n",
      " 4   channel           object        \n",
      " 5   date              datetime64[ns]\n",
      " 6   created_at        datetime64[ns]\n",
      "dtypes: datetime64[ns](2), int64(2), object(3)\n",
      "memory usage: 680.4+ MB\n"
     ]
    }
   ],
   "source": [
    "messages.info()"
   ]
  },
  {
   "cell_type": "markdown",
   "id": "c2171ae3",
   "metadata": {
    "id": "c2171ae3"
   },
   "source": [
    "В датафрейме более 12 млн. строк и 7 столбцов, 2 из которых числовые, 3 категориальные, 2 - в формате datetime."
   ]
  },
  {
   "cell_type": "code",
   "execution_count": 31,
   "id": "24b8b6c3",
   "metadata": {
    "colab": {
     "base_uri": "https://localhost:8080/"
    },
    "id": "24b8b6c3",
    "outputId": "41c4096b-e61f-45cc-d8d0-9e9ad6e4e47e",
    "tags": []
   },
   "outputs": [
    {
     "data": {
      "text/plain": [
       "48610"
      ]
     },
     "execution_count": 31,
     "metadata": {},
     "output_type": "execute_result"
    }
   ],
   "source": [
    "messages.duplicated().sum()"
   ]
  },
  {
   "cell_type": "markdown",
   "id": "de4bb686",
   "metadata": {
    "id": "de4bb686"
   },
   "source": [
    "В датафрейме очень много дубликатов. Сразу избавимся от них."
   ]
  },
  {
   "cell_type": "code",
   "execution_count": 32,
   "id": "faae921c",
   "metadata": {
    "id": "faae921c",
    "tags": []
   },
   "outputs": [],
   "source": [
    "messages = messages.drop_duplicates()"
   ]
  },
  {
   "cell_type": "code",
   "execution_count": 33,
   "id": "439297ee",
   "metadata": {
    "colab": {
     "base_uri": "https://localhost:8080/",
     "height": 304
    },
    "id": "439297ee",
    "outputId": "fedfbe1e-013c-4577-bcf1-b072922193e3",
    "tags": []
   },
   "outputs": [
    {
     "data": {
      "text/plain": [
       "bulk_campaign_id    0.0\n",
       "client_id           0.0\n",
       "message_id          0.0\n",
       "event               0.0\n",
       "channel             0.0\n",
       "date                0.0\n",
       "created_at          0.0\n",
       "dtype: float64"
      ]
     },
     "execution_count": 33,
     "metadata": {},
     "output_type": "execute_result"
    }
   ],
   "source": [
    "messages.isna().mean()"
   ]
  },
  {
   "cell_type": "markdown",
   "id": "a4a454c7",
   "metadata": {
    "id": "a4a454c7"
   },
   "source": [
    "Пропущенных значений нет."
   ]
  },
  {
   "cell_type": "code",
   "execution_count": 34,
   "id": "956267e0",
   "metadata": {
    "colab": {
     "base_uri": "https://localhost:8080/",
     "height": 178
    },
    "id": "956267e0",
    "outputId": "cd0293c1-6b0e-4b52-8fce-54fc8e8034d7",
    "scrolled": true,
    "tags": []
   },
   "outputs": [
    {
     "data": {
      "text/plain": [
       "bulk_campaign_id       2709\n",
       "client_id             53329\n",
       "message_id          9061667\n",
       "dtype: int64"
      ]
     },
     "execution_count": 34,
     "metadata": {},
     "output_type": "execute_result"
    }
   ],
   "source": [
    "messages[['bulk_campaign_id','client_id', 'message_id']].nunique()"
   ]
  },
  {
   "cell_type": "code",
   "execution_count": 35,
   "id": "4XHpSf3bw19T",
   "metadata": {
    "colab": {
     "base_uri": "https://localhost:8080/",
     "height": 304
    },
    "id": "4XHpSf3bw19T",
    "outputId": "864892d1-6f30-4583-f0ad-1ae86c174f7f",
    "tags": []
   },
   "outputs": [
    {
     "data": {
      "text/plain": [
       "bulk_campaign_id     1528\n",
       "client_id           42055\n",
       "message_id          49671\n",
       "event                   1\n",
       "channel                 2\n",
       "date                  638\n",
       "created_at          60471\n",
       "dtype: int64"
      ]
     },
     "execution_count": 35,
     "metadata": {},
     "output_type": "execute_result"
    }
   ],
   "source": [
    "messages.query(\"event == 'purchase'\").nunique()"
   ]
  },
  {
   "cell_type": "code",
   "execution_count": 36,
   "id": "49d347a4",
   "metadata": {
    "colab": {
     "base_uri": "https://localhost:8080/"
    },
    "id": "49d347a4",
    "outputId": "fddda9c5-3924-4c37-b2a3-096e44e3f80b",
    "tags": []
   },
   "outputs": [
    {
     "name": "stdout",
     "output_type": "stream",
     "text": [
      "Среднее количество кампаний в которых участвует клиент: 238.0\n",
      "Среднее количество сообщений которые получает клиент: 238.0\n"
     ]
    }
   ],
   "source": [
    "client_campaign_mean = messages.groupby('client_id').agg({'bulk_campaign_id':'count'}).mean().values[0].round()\n",
    "client_message_mean = messages.groupby('client_id').agg({'message_id':'count'}).mean().values[0].round()\n",
    "print(f\"Среднее количество кампаний в которых участвует клиент: {client_campaign_mean}\")\n",
    "print(f\"Среднее количество сообщений которые получает клиент: {client_message_mean}\")"
   ]
  },
  {
   "cell_type": "code",
   "execution_count": 37,
   "id": "ada7eed6",
   "metadata": {
    "colab": {
     "base_uri": "https://localhost:8080/",
     "height": 455
    },
    "id": "ada7eed6",
    "outputId": "1d61c134-99e6-4665-b6d9-98d59d06c169",
    "tags": []
   },
   "outputs": [
    {
     "data": {
      "text/html": [
       "<div>\n",
       "<style scoped>\n",
       "    .dataframe tbody tr th:only-of-type {\n",
       "        vertical-align: middle;\n",
       "    }\n",
       "\n",
       "    .dataframe tbody tr th {\n",
       "        vertical-align: top;\n",
       "    }\n",
       "\n",
       "    .dataframe thead th {\n",
       "        text-align: right;\n",
       "    }\n",
       "</style>\n",
       "<table border=\"1\" class=\"dataframe\">\n",
       "  <thead>\n",
       "    <tr style=\"text-align: right;\">\n",
       "      <th></th>\n",
       "      <th>message_id</th>\n",
       "    </tr>\n",
       "    <tr>\n",
       "      <th>client_id</th>\n",
       "      <th></th>\n",
       "    </tr>\n",
       "  </thead>\n",
       "  <tbody>\n",
       "    <tr>\n",
       "      <th>1515915625468060902</th>\n",
       "      <td>177</td>\n",
       "    </tr>\n",
       "    <tr>\n",
       "      <th>1515915625468061003</th>\n",
       "      <td>165</td>\n",
       "    </tr>\n",
       "    <tr>\n",
       "      <th>1515915625468061099</th>\n",
       "      <td>276</td>\n",
       "    </tr>\n",
       "    <tr>\n",
       "      <th>1515915625468061100</th>\n",
       "      <td>428</td>\n",
       "    </tr>\n",
       "    <tr>\n",
       "      <th>1515915625468061170</th>\n",
       "      <td>293</td>\n",
       "    </tr>\n",
       "    <tr>\n",
       "      <th>...</th>\n",
       "      <td>...</td>\n",
       "    </tr>\n",
       "    <tr>\n",
       "      <th>1515915626010183608</th>\n",
       "      <td>4</td>\n",
       "    </tr>\n",
       "    <tr>\n",
       "      <th>1515915626010221592</th>\n",
       "      <td>6</td>\n",
       "    </tr>\n",
       "    <tr>\n",
       "      <th>1515915626010234726</th>\n",
       "      <td>1</td>\n",
       "    </tr>\n",
       "    <tr>\n",
       "      <th>1515915626010261344</th>\n",
       "      <td>3</td>\n",
       "    </tr>\n",
       "    <tr>\n",
       "      <th>1515915626010288690</th>\n",
       "      <td>2</td>\n",
       "    </tr>\n",
       "  </tbody>\n",
       "</table>\n",
       "<p>53329 rows × 1 columns</p>\n",
       "</div>"
      ],
      "text/plain": [
       "                     message_id\n",
       "client_id                      \n",
       "1515915625468060902         177\n",
       "1515915625468061003         165\n",
       "1515915625468061099         276\n",
       "1515915625468061100         428\n",
       "1515915625468061170         293\n",
       "...                         ...\n",
       "1515915626010183608           4\n",
       "1515915626010221592           6\n",
       "1515915626010234726           1\n",
       "1515915626010261344           3\n",
       "1515915626010288690           2\n",
       "\n",
       "[53329 rows x 1 columns]"
      ]
     },
     "execution_count": 37,
     "metadata": {},
     "output_type": "execute_result"
    }
   ],
   "source": [
    "messages.groupby('client_id').agg({'message_id':'count'})"
   ]
  },
  {
   "cell_type": "code",
   "execution_count": 38,
   "id": "3b4d014d",
   "metadata": {
    "colab": {
     "base_uri": "https://localhost:8080/",
     "height": 147
    },
    "id": "3b4d014d",
    "outputId": "bf6c0ea3-4565-4783-8a03-38dd99be5b3f",
    "tags": []
   },
   "outputs": [
    {
     "data": {
      "text/plain": [
       "event      11\n",
       "channel     2\n",
       "dtype: int64"
      ]
     },
     "execution_count": 38,
     "metadata": {},
     "output_type": "execute_result"
    }
   ],
   "source": [
    "messages[['event', 'channel']].nunique()"
   ]
  },
  {
   "cell_type": "code",
   "execution_count": 39,
   "id": "452f3e79",
   "metadata": {
    "colab": {
     "base_uri": "https://localhost:8080/",
     "height": 460
    },
    "id": "452f3e79",
    "outputId": "ca735e41-5b81-433b-ea53-f330b11ab7b2",
    "scrolled": true,
    "tags": []
   },
   "outputs": [
    {
     "data": {
      "text/plain": [
       "event\n",
       "send           0.71\n",
       "open           0.24\n",
       "click          0.04\n",
       "purchase       0.00\n",
       "hard_bounce    0.00\n",
       "soft_bounce    0.00\n",
       "unsubscribe    0.00\n",
       "hbq_spam       0.00\n",
       "complain       0.00\n",
       "subscribe      0.00\n",
       "close          0.00\n",
       "Name: proportion, dtype: float64"
      ]
     },
     "execution_count": 39,
     "metadata": {},
     "output_type": "execute_result"
    }
   ],
   "source": [
    "messages['event'].value_counts(normalize=True).round(2)"
   ]
  },
  {
   "cell_type": "markdown",
   "id": "697f5c93",
   "metadata": {
    "id": "697f5c93"
   },
   "source": [
    "В колонке **event** значение **send** - указывает на то, что сообщение доставлено, и возможно для обучения модели эта информация не сильно то нужна, а вот значения **open** и **click** уже указывают на некоторую активность и заинтересованность пользователя к рекламной рассылке, значения **purchase** - вообще указывает на сам факт покупки (таргет). Остальные значения в выборке представлены крайне мало и несут чисто техническую информацию, о том, что есть проблемы с доставкой и т.п. и ими можно пренебречь, т.е. удалить из выборки."
   ]
  },
  {
   "cell_type": "code",
   "execution_count": 40,
   "id": "a5f6705a",
   "metadata": {
    "colab": {
     "base_uri": "https://localhost:8080/",
     "height": 178
    },
    "id": "a5f6705a",
    "outputId": "cb9c329d-dd8e-4bb1-ace3-1e78e5aa261b",
    "scrolled": true,
    "tags": []
   },
   "outputs": [
    {
     "data": {
      "text/plain": [
       "channel\n",
       "mobile_push    0.59\n",
       "email          0.41\n",
       "Name: proportion, dtype: float64"
      ]
     },
     "execution_count": 40,
     "metadata": {},
     "output_type": "execute_result"
    }
   ],
   "source": [
    "messages['channel'].value_counts(normalize=True).round(2)"
   ]
  },
  {
   "cell_type": "markdown",
   "id": "643ca652",
   "metadata": {
    "id": "643ca652"
   },
   "source": [
    "Канал mobile_push немного чаще используется чем email."
   ]
  },
  {
   "cell_type": "code",
   "execution_count": 41,
   "id": "dc2e52b4",
   "metadata": {
    "colab": {
     "base_uri": "https://localhost:8080/"
    },
    "id": "dc2e52b4",
    "outputId": "981dc490-aabb-4892-c87d-683803f84280",
    "tags": []
   },
   "outputs": [
    {
     "data": {
      "text/plain": [
       "0"
      ]
     },
     "execution_count": 41,
     "metadata": {},
     "output_type": "execute_result"
    }
   ],
   "source": [
    "(messages['created_at'].dt.date != messages['date'].dt.date).sum()"
   ]
  },
  {
   "cell_type": "markdown",
   "id": "93984612",
   "metadata": {
    "id": "93984612"
   },
   "source": [
    "Если сравнивать только даты в колонках **created_at** и **date**, то они одинаковы. Значит наличие колонка date в датафрейме избыточно, ее можно удалить."
   ]
  },
  {
   "cell_type": "markdown",
   "id": "wb3fx3tjrcIz",
   "metadata": {
    "id": "wb3fx3tjrcIz"
   },
   "source": [
    "#### Создание признака activity"
   ]
  },
  {
   "cell_type": "markdown",
   "id": "RqecL9KZrcPD",
   "metadata": {
    "id": "RqecL9KZrcPD"
   },
   "source": [
    "Создадим признак activity который показывает активность клиента при взаимодействии с сообщениями и определяется по формуле:\n",
    "\n",
    " $\\text{activity} = \\frac{\\text{open} + \\text{click}}{\\text{send}}$"
   ]
  },
  {
   "cell_type": "code",
   "execution_count": 42,
   "id": "m6qcS5A9gR3m",
   "metadata": {
    "colab": {
     "base_uri": "https://localhost:8080/",
     "height": 206
    },
    "id": "m6qcS5A9gR3m",
    "outputId": "a074c106-3bc4-4830-f69c-6752ed144ab2",
    "tags": []
   },
   "outputs": [
    {
     "data": {
      "text/html": [
       "<div>\n",
       "<style scoped>\n",
       "    .dataframe tbody tr th:only-of-type {\n",
       "        vertical-align: middle;\n",
       "    }\n",
       "\n",
       "    .dataframe tbody tr th {\n",
       "        vertical-align: top;\n",
       "    }\n",
       "\n",
       "    .dataframe thead th {\n",
       "        text-align: right;\n",
       "    }\n",
       "</style>\n",
       "<table border=\"1\" class=\"dataframe\">\n",
       "  <thead>\n",
       "    <tr style=\"text-align: right;\">\n",
       "      <th></th>\n",
       "      <th>client_id</th>\n",
       "      <th>activity</th>\n",
       "    </tr>\n",
       "  </thead>\n",
       "  <tbody>\n",
       "    <tr>\n",
       "      <th>0</th>\n",
       "      <td>1515915625468060902</td>\n",
       "      <td>0.35</td>\n",
       "    </tr>\n",
       "    <tr>\n",
       "      <th>1</th>\n",
       "      <td>1515915625468061003</td>\n",
       "      <td>0.06</td>\n",
       "    </tr>\n",
       "    <tr>\n",
       "      <th>2</th>\n",
       "      <td>1515915625468061099</td>\n",
       "      <td>0.27</td>\n",
       "    </tr>\n",
       "    <tr>\n",
       "      <th>3</th>\n",
       "      <td>1515915625468061100</td>\n",
       "      <td>0.59</td>\n",
       "    </tr>\n",
       "    <tr>\n",
       "      <th>4</th>\n",
       "      <td>1515915625468061170</td>\n",
       "      <td>0.19</td>\n",
       "    </tr>\n",
       "  </tbody>\n",
       "</table>\n",
       "</div>"
      ],
      "text/plain": [
       "             client_id  activity\n",
       "0  1515915625468060902      0.35\n",
       "1  1515915625468061003      0.06\n",
       "2  1515915625468061099      0.27\n",
       "3  1515915625468061100      0.59\n",
       "4  1515915625468061170      0.19"
      ]
     },
     "execution_count": 42,
     "metadata": {},
     "output_type": "execute_result"
    }
   ],
   "source": [
    "# Вычиисляем числитель\n",
    "t_1 = messages.query(\"event in ('open', 'click')\") \\\n",
    "                          .groupby(['client_id']).agg(numerator=('event', 'count'))\n",
    "# Выччисляем знаменатель. Так как send пропущен, просто вычиляем количество уникльных значений.\n",
    "t_2 = messages.query(\"event in ('send', 'open', 'click')\") \\\n",
    "                          .groupby(['client_id']).agg(denominator=('message_id', 'nunique'))\n",
    "\n",
    "client_activity = t_1.merge(t_2, how='outer', on='client_id').fillna(0)\n",
    "\n",
    "client_activity['activity'] = (client_activity['numerator'] / client_activity['denominator']).round(2)\n",
    "client_activity = client_activity['activity'].reset_index()\n",
    "client_activity.head()"
   ]
  },
  {
   "cell_type": "code",
   "execution_count": 43,
   "id": "fPwFPnTElTQU",
   "metadata": {
    "colab": {
     "base_uri": "https://localhost:8080/",
     "height": 476
    },
    "id": "fPwFPnTElTQU",
    "outputId": "76dff480-2750-4719-dd39-01079931ad8e",
    "tags": []
   },
   "outputs": [
    {
     "data": {
      "image/png": "[encoded data removed]",
      "text/plain": [
       "<Figure size 640x480 with 1 Axes>"
      ]
     },
     "metadata": {},
     "output_type": "display_data"
    }
   ],
   "source": [
    "sns.histplot(client_activity['activity'], log_scale=True)\n",
    "plt.title('Гистограмма признака activity');"
   ]
  },
  {
   "cell_type": "markdown",
   "id": "CoxSi_Ycsy8U",
   "metadata": {
    "id": "CoxSi_Ycsy8U"
   },
   "source": [
    "#### Создание признака pre_purchase_engagement"
   ]
  },
  {
   "cell_type": "markdown",
   "id": "c1868b09-cd3c-43df-b63f-78c8ec11c413",
   "metadata": {},
   "source": [
    "Создадим признак **pre_purchase_engagement** - показывающий среднее количество действий, которое совершает клиент после получения сообщения и покупкой товара."
   ]
  },
  {
   "cell_type": "code",
   "execution_count": 44,
   "id": "xcFflsXFZeId",
   "metadata": {
    "colab": {
     "base_uri": "https://localhost:8080/",
     "height": 143
    },
    "id": "xcFflsXFZeId",
    "outputId": "fb476094-2941-4f44-de8d-5982b0f8d519",
    "tags": []
   },
   "outputs": [
    {
     "data": {
      "text/html": [
       "<div>\n",
       "<style scoped>\n",
       "    .dataframe tbody tr th:only-of-type {\n",
       "        vertical-align: middle;\n",
       "    }\n",
       "\n",
       "    .dataframe tbody tr th {\n",
       "        vertical-align: top;\n",
       "    }\n",
       "\n",
       "    .dataframe thead th {\n",
       "        text-align: right;\n",
       "    }\n",
       "</style>\n",
       "<table border=\"1\" class=\"dataframe\">\n",
       "  <thead>\n",
       "    <tr style=\"text-align: right;\">\n",
       "      <th></th>\n",
       "      <th>pre_purchase_engagement</th>\n",
       "    </tr>\n",
       "    <tr>\n",
       "      <th>client_id</th>\n",
       "      <th></th>\n",
       "    </tr>\n",
       "  </thead>\n",
       "  <tbody>\n",
       "    <tr>\n",
       "      <th>1515915625468060902</th>\n",
       "      <td>1.52</td>\n",
       "    </tr>\n",
       "    <tr>\n",
       "      <th>1515915625468061003</th>\n",
       "      <td>2.20</td>\n",
       "    </tr>\n",
       "  </tbody>\n",
       "</table>\n",
       "</div>"
      ],
      "text/plain": [
       "                     pre_purchase_engagement\n",
       "client_id                                   \n",
       "1515915625468060902                     1.52\n",
       "1515915625468061003                     2.20"
      ]
     },
     "execution_count": 44,
     "metadata": {},
     "output_type": "execute_result"
    }
   ],
   "source": [
    "pre_purchase_engagement = messages.query(\"event in ('open', 'click', 'purchase')\") \\\n",
    "        .groupby(['client_id', 'message_id']).agg(pre_purchase_engagement=('event', 'count')) \\\n",
    "        .groupby('client_id').agg({'pre_purchase_engagement':'mean'}).round(2)\n",
    "pre_purchase_engagement.head(2)"
   ]
  },
  {
   "cell_type": "markdown",
   "id": "8f1cfdb4-b61a-4e70-8e59-b7523e7e748b",
   "metadata": {
    "id": "8f1cfdb4-b61a-4e70-8e59-b7523e7e748b"
   },
   "source": [
    "#### Создание признаков per_email и per_mobile_push"
   ]
  },
  {
   "cell_type": "markdown",
   "id": "937199c8-267c-4a4d-87d1-9e93bde6d24d",
   "metadata": {},
   "source": [
    "Создадим признаки указывающую долю использования mail или mobile_push."
   ]
  },
  {
   "cell_type": "code",
   "execution_count": 45,
   "id": "BwZEehhhZeOA",
   "metadata": {
    "colab": {
     "base_uri": "https://localhost:8080/",
     "height": 143
    },
    "id": "BwZEehhhZeOA",
    "outputId": "ada2a3ce-7d2f-4843-8bd3-f65d432de155",
    "tags": []
   },
   "outputs": [
    {
     "data": {
      "text/html": [
       "<div>\n",
       "<style scoped>\n",
       "    .dataframe tbody tr th:only-of-type {\n",
       "        vertical-align: middle;\n",
       "    }\n",
       "\n",
       "    .dataframe tbody tr th {\n",
       "        vertical-align: top;\n",
       "    }\n",
       "\n",
       "    .dataframe thead th {\n",
       "        text-align: right;\n",
       "    }\n",
       "</style>\n",
       "<table border=\"1\" class=\"dataframe\">\n",
       "  <thead>\n",
       "    <tr style=\"text-align: right;\">\n",
       "      <th>channel</th>\n",
       "      <th>per_email</th>\n",
       "      <th>per_mobile_push</th>\n",
       "    </tr>\n",
       "    <tr>\n",
       "      <th>client_id</th>\n",
       "      <th></th>\n",
       "      <th></th>\n",
       "    </tr>\n",
       "  </thead>\n",
       "  <tbody>\n",
       "    <tr>\n",
       "      <th>1515915625468060902</th>\n",
       "      <td>1.0</td>\n",
       "      <td>0.0</td>\n",
       "    </tr>\n",
       "    <tr>\n",
       "      <th>1515915625468061003</th>\n",
       "      <td>1.0</td>\n",
       "      <td>0.0</td>\n",
       "    </tr>\n",
       "  </tbody>\n",
       "</table>\n",
       "</div>"
      ],
      "text/plain": [
       "channel              per_email  per_mobile_push\n",
       "client_id                                      \n",
       "1515915625468060902        1.0              0.0\n",
       "1515915625468061003        1.0              0.0"
      ]
     },
     "execution_count": 45,
     "metadata": {},
     "output_type": "execute_result"
    }
   ],
   "source": [
    "percentage_channel = messages.groupby(['client_id', 'message_id']).first() \\\n",
    "            .groupby('client_id').value_counts(subset=['channel'], normalize=True) \\\n",
    "            .unstack(fill_value=0).rename(columns={'email':'per_email', 'mobile_push': 'per_mobile_push'}) \\\n",
    "            .fillna(0).round(2)\n",
    "percentage_channel.head(2)"
   ]
  },
  {
   "cell_type": "markdown",
   "id": "Pubruf_8DSVV",
   "metadata": {
    "id": "Pubruf_8DSVV",
    "tags": []
   },
   "source": [
    "### apparel-target_binary"
   ]
  },
  {
   "cell_type": "code",
   "execution_count": 46,
   "id": "fclXqcB_D1jd",
   "metadata": {
    "colab": {
     "base_uri": "https://localhost:8080/"
    },
    "id": "fclXqcB_D1jd",
    "outputId": "947bbe06-242e-48a0-b5b2-cae6e7bf18ef",
    "tags": []
   },
   "outputs": [
    {
     "name": "stdout",
     "output_type": "stream",
     "text": [
      "<class 'pandas.core.frame.DataFrame'>\n",
      "RangeIndex: 49849 entries, 0 to 49848\n",
      "Data columns (total 2 columns):\n",
      " #   Column     Non-Null Count  Dtype\n",
      "---  ------     --------------  -----\n",
      " 0   client_id  49849 non-null  int64\n",
      " 1   target     49849 non-null  int64\n",
      "dtypes: int64(2)\n",
      "memory usage: 779.0 KB\n"
     ]
    }
   ],
   "source": [
    "target.info()"
   ]
  },
  {
   "cell_type": "markdown",
   "id": "93b6db28-a937-4099-b9fa-06ad6e3e41e4",
   "metadata": {},
   "source": [
    "В датафрейме всего два столбца и 49_849 строк."
   ]
  },
  {
   "cell_type": "code",
   "execution_count": 47,
   "id": "87937d25",
   "metadata": {
    "colab": {
     "base_uri": "https://localhost:8080/"
    },
    "id": "87937d25",
    "outputId": "33172999-6e3b-4acd-b691-47d3ec117915",
    "tags": []
   },
   "outputs": [
    {
     "data": {
      "text/plain": [
       "49849"
      ]
     },
     "execution_count": 47,
     "metadata": {},
     "output_type": "execute_result"
    }
   ],
   "source": [
    "target['client_id'].nunique()"
   ]
  },
  {
   "cell_type": "code",
   "execution_count": 48,
   "id": "TMRxagwXDf-i",
   "metadata": {
    "colab": {
     "base_uri": "https://localhost:8080/",
     "height": 466
    },
    "id": "TMRxagwXDf-i",
    "outputId": "57e9a4fb-9a70-4319-f950-25efecdc87a1",
    "tags": []
   },
   "outputs": [
    {
     "data": {
      "image/png": "[encoded data removed]",
      "text/plain": [
       "<Figure size 600x400 with 1 Axes>"
      ]
     },
     "metadata": {},
     "output_type": "display_data"
    }
   ],
   "source": [
    "plt.figure(figsize=(6,4))\n",
    "sns.countplot(data=target, x='target')\n",
    "plt.title('Распределение признака target');"
   ]
  },
  {
   "cell_type": "markdown",
   "id": "5ecd1aa0-7b21-4aa5-ba22-19f7ef722e9a",
   "metadata": {
    "id": "n-RI_XRS6LP3"
   },
   "source": [
    "В выборке примеров положительного класса очень мало, это надо учесть при обучении модели."
   ]
  },
  {
   "cell_type": "markdown",
   "id": "843369bf-bed2-46b4-bcc4-1da5db3a2e92",
   "metadata": {
    "id": "843369bf-bed2-46b4-bcc4-1da5db3a2e92"
   },
   "source": [
    "### Создание признаков на основе объединенного датафрейма"
   ]
  },
  {
   "cell_type": "markdown",
   "id": "8c928a26-c348-402b-8f5c-658d896ea102",
   "metadata": {},
   "source": [
    "Объединим два датафрейма **purchases** и **messages** в один и не его основе создадим признаки."
   ]
  },
  {
   "cell_type": "code",
   "execution_count": 49,
   "id": "a64e9e93-c37c-4a02-a032-f6b1d552c998",
   "metadata": {
    "colab": {
     "base_uri": "https://localhost:8080/",
     "height": 216
    },
    "id": "a64e9e93-c37c-4a02-a032-f6b1d552c998",
    "outputId": "b45efa7e-8cdb-4f8e-93de-06f59cdfed18",
    "tags": []
   },
   "outputs": [
    {
     "data": {
      "text/html": [
       "<div>\n",
       "<style scoped>\n",
       "    .dataframe tbody tr th:only-of-type {\n",
       "        vertical-align: middle;\n",
       "    }\n",
       "\n",
       "    .dataframe tbody tr th {\n",
       "        vertical-align: top;\n",
       "    }\n",
       "\n",
       "    .dataframe thead th {\n",
       "        text-align: right;\n",
       "    }\n",
       "</style>\n",
       "<table border=\"1\" class=\"dataframe\">\n",
       "  <thead>\n",
       "    <tr style=\"text-align: right;\">\n",
       "      <th></th>\n",
       "      <th>client_id</th>\n",
       "      <th>quantity</th>\n",
       "      <th>price</th>\n",
       "      <th>category_ids</th>\n",
       "      <th>date_x</th>\n",
       "      <th>message_id</th>\n",
       "      <th>level_0</th>\n",
       "      <th>level_1</th>\n",
       "      <th>level_2</th>\n",
       "      <th>level_3</th>\n",
       "      <th>start_month</th>\n",
       "      <th>bulk_campaign_id</th>\n",
       "      <th>event</th>\n",
       "      <th>channel</th>\n",
       "      <th>date_y</th>\n",
       "      <th>created_at</th>\n",
       "    </tr>\n",
       "  </thead>\n",
       "  <tbody>\n",
       "    <tr>\n",
       "      <th>0</th>\n",
       "      <td>1515915625490739153</td>\n",
       "      <td>1</td>\n",
       "      <td>1999.0</td>\n",
       "      <td>[2, 18, 123, 451]</td>\n",
       "      <td>2022-05-16</td>\n",
       "      <td>1515915625490739153-4172-626b943cc789b</td>\n",
       "      <td>2.0</td>\n",
       "      <td>18.0</td>\n",
       "      <td>123.0</td>\n",
       "      <td>451.0</td>\n",
       "      <td>2022-05-01</td>\n",
       "      <td>4172</td>\n",
       "      <td>open</td>\n",
       "      <td>email</td>\n",
       "      <td>2022-05-27</td>\n",
       "      <td>2022-05-27 07:52:08</td>\n",
       "    </tr>\n",
       "    <tr>\n",
       "      <th>1</th>\n",
       "      <td>1515915625491869271</td>\n",
       "      <td>2</td>\n",
       "      <td>599.0</td>\n",
       "      <td>[4, 27, 350, 1392]</td>\n",
       "      <td>2022-05-16</td>\n",
       "      <td>1515915625491869271-2090-61a72488d6a0f</td>\n",
       "      <td>4.0</td>\n",
       "      <td>27.0</td>\n",
       "      <td>350.0</td>\n",
       "      <td>1392.0</td>\n",
       "      <td>2022-05-01</td>\n",
       "      <td>2090</td>\n",
       "      <td>click</td>\n",
       "      <td>email</td>\n",
       "      <td>2023-04-12</td>\n",
       "      <td>2023-04-12 08:25:33</td>\n",
       "    </tr>\n",
       "    <tr>\n",
       "      <th>2</th>\n",
       "      <td>1515915625491869271</td>\n",
       "      <td>2</td>\n",
       "      <td>599.0</td>\n",
       "      <td>[4, 27, 350, 1392]</td>\n",
       "      <td>2022-05-16</td>\n",
       "      <td>1515915625491869271-2090-61a72488d6a0f</td>\n",
       "      <td>4.0</td>\n",
       "      <td>27.0</td>\n",
       "      <td>350.0</td>\n",
       "      <td>1392.0</td>\n",
       "      <td>2022-05-01</td>\n",
       "      <td>2090</td>\n",
       "      <td>click</td>\n",
       "      <td>email</td>\n",
       "      <td>2023-04-18</td>\n",
       "      <td>2023-04-18 11:47:45</td>\n",
       "    </tr>\n",
       "  </tbody>\n",
       "</table>\n",
       "</div>"
      ],
      "text/plain": [
       "             client_id  quantity   price        category_ids     date_x  \\\n",
       "0  1515915625490739153         1  1999.0   [2, 18, 123, 451] 2022-05-16   \n",
       "1  1515915625491869271         2   599.0  [4, 27, 350, 1392] 2022-05-16   \n",
       "2  1515915625491869271         2   599.0  [4, 27, 350, 1392] 2022-05-16   \n",
       "\n",
       "                               message_id  level_0  level_1  level_2  level_3  \\\n",
       "0  1515915625490739153-4172-626b943cc789b      2.0     18.0    123.0    451.0   \n",
       "1  1515915625491869271-2090-61a72488d6a0f      4.0     27.0    350.0   1392.0   \n",
       "2  1515915625491869271-2090-61a72488d6a0f      4.0     27.0    350.0   1392.0   \n",
       "\n",
       "  start_month  bulk_campaign_id  event channel     date_y          created_at  \n",
       "0  2022-05-01              4172   open   email 2022-05-27 2022-05-27 07:52:08  \n",
       "1  2022-05-01              2090  click   email 2023-04-12 2023-04-12 08:25:33  \n",
       "2  2022-05-01              2090  click   email 2023-04-18 2023-04-18 11:47:45  "
      ]
     },
     "execution_count": 49,
     "metadata": {},
     "output_type": "execute_result"
    }
   ],
   "source": [
    "t = purchases.merge(messages, how='inner', on=['client_id', 'message_id'])\n",
    "t.head(3)"
   ]
  },
  {
   "cell_type": "markdown",
   "id": "e046deed-fcf7-4851-9ab3-f31326e8ef14",
   "metadata": {},
   "source": [
    "#### Создание признаков steps_before_purchase и cost_of_step"
   ]
  },
  {
   "cell_type": "markdown",
   "id": "1afab461-0220-4f76-963b-2f32201828d0",
   "metadata": {},
   "source": [
    "Создадим два признака **steps_before_purchase** и **cost_of_step**, показывающие сколько шагов делает клиент при покупке и какая цена у шага, соответственно."
   ]
  },
  {
   "cell_type": "code",
   "execution_count": 50,
   "id": "91ceb9ad-99f5-4eaa-8685-ab556ef673c6",
   "metadata": {
    "colab": {
     "base_uri": "https://localhost:8080/",
     "height": 175
    },
    "id": "91ceb9ad-99f5-4eaa-8685-ab556ef673c6",
    "outputId": "b55cf14e-5ff6-4350-b9e7-4d24a3d28c35",
    "tags": []
   },
   "outputs": [
    {
     "data": {
      "text/html": [
       "<div>\n",
       "<style scoped>\n",
       "    .dataframe tbody tr th:only-of-type {\n",
       "        vertical-align: middle;\n",
       "    }\n",
       "\n",
       "    .dataframe tbody tr th {\n",
       "        vertical-align: top;\n",
       "    }\n",
       "\n",
       "    .dataframe thead th {\n",
       "        text-align: right;\n",
       "    }\n",
       "</style>\n",
       "<table border=\"1\" class=\"dataframe\">\n",
       "  <thead>\n",
       "    <tr style=\"text-align: right;\">\n",
       "      <th></th>\n",
       "      <th>steps_before_purchase</th>\n",
       "      <th>cost_of_step</th>\n",
       "    </tr>\n",
       "    <tr>\n",
       "      <th>client_id</th>\n",
       "      <th></th>\n",
       "      <th></th>\n",
       "    </tr>\n",
       "  </thead>\n",
       "  <tbody>\n",
       "    <tr>\n",
       "      <th>1515915625468060902</th>\n",
       "      <td>55.0</td>\n",
       "      <td>959.000000</td>\n",
       "    </tr>\n",
       "    <tr>\n",
       "      <th>1515915625468061003</th>\n",
       "      <td>24.0</td>\n",
       "      <td>2355.833333</td>\n",
       "    </tr>\n",
       "    <tr>\n",
       "      <th>1515915625468061100</th>\n",
       "      <td>4.0</td>\n",
       "      <td>1049.000000</td>\n",
       "    </tr>\n",
       "  </tbody>\n",
       "</table>\n",
       "</div>"
      ],
      "text/plain": [
       "                     steps_before_purchase  cost_of_step\n",
       "client_id                                               \n",
       "1515915625468060902                   55.0    959.000000\n",
       "1515915625468061003                   24.0   2355.833333\n",
       "1515915625468061100                    4.0   1049.000000"
      ]
     },
     "execution_count": 50,
     "metadata": {},
     "output_type": "execute_result"
    }
   ],
   "source": [
    "steps = t.groupby(['client_id', 'message_id']).agg(steps_before_purchase=('event', 'count'),\n",
    "                                           cost_of_step=('price', 'mean')) \\\n",
    " .groupby('client_id').agg({'steps_before_purchase':'mean',\n",
    "                            'cost_of_step':'mean'})\n",
    "steps.head(3)"
   ]
  },
  {
   "cell_type": "markdown",
   "id": "RfTKruYg6JAM",
   "metadata": {
    "id": "RfTKruYg6JAM"
   },
   "source": [
    "#### Создание признака message_to_purchase – время от сообщения до покупки."
   ]
  },
  {
   "cell_type": "markdown",
   "id": "c49a3fd4-9271-4557-8a66-e8f85cb2d946",
   "metadata": {
    "colab": {
     "base_uri": "https://localhost:8080/",
     "height": 167
    },
    "id": "XrTDgbYd6KAr",
    "outputId": "876c03dc-bb63-42c7-b044-a4d4129d3ba6"
   },
   "source": [
    "Создадим признак **message_to_purchase** - сколько в среднем времени (в секундах) проходит с момента получения сообщения до совершения покупки."
   ]
  },
  {
   "cell_type": "code",
   "execution_count": 51,
   "id": "6cae5594-9fba-4980-91d9-11a47de81f49",
   "metadata": {
    "colab": {
     "base_uri": "https://localhost:8080/",
     "height": 238
    },
    "id": "6cae5594-9fba-4980-91d9-11a47de81f49",
    "outputId": "fd799225-261d-48cc-d14c-bb5268bb1548",
    "tags": []
   },
   "outputs": [
    {
     "data": {
      "text/html": [
       "<div>\n",
       "<style scoped>\n",
       "    .dataframe tbody tr th:only-of-type {\n",
       "        vertical-align: middle;\n",
       "    }\n",
       "\n",
       "    .dataframe tbody tr th {\n",
       "        vertical-align: top;\n",
       "    }\n",
       "\n",
       "    .dataframe thead th {\n",
       "        text-align: right;\n",
       "    }\n",
       "</style>\n",
       "<table border=\"1\" class=\"dataframe\">\n",
       "  <thead>\n",
       "    <tr style=\"text-align: right;\">\n",
       "      <th></th>\n",
       "      <th>message_to_purchase</th>\n",
       "    </tr>\n",
       "    <tr>\n",
       "      <th>client_id</th>\n",
       "      <th></th>\n",
       "    </tr>\n",
       "  </thead>\n",
       "  <tbody>\n",
       "    <tr>\n",
       "      <th>1515915625468060902</th>\n",
       "      <td>23917.000000</td>\n",
       "    </tr>\n",
       "    <tr>\n",
       "      <th>1515915625468061003</th>\n",
       "      <td>26518.000000</td>\n",
       "    </tr>\n",
       "    <tr>\n",
       "      <th>1515915625468061100</th>\n",
       "      <td>114973.000000</td>\n",
       "    </tr>\n",
       "    <tr>\n",
       "      <th>1515915625468061170</th>\n",
       "      <td>344717.666667</td>\n",
       "    </tr>\n",
       "    <tr>\n",
       "      <th>1515915625468061514</th>\n",
       "      <td>84516.000000</td>\n",
       "    </tr>\n",
       "  </tbody>\n",
       "</table>\n",
       "</div>"
      ],
      "text/plain": [
       "                     message_to_purchase\n",
       "client_id                               \n",
       "1515915625468060902         23917.000000\n",
       "1515915625468061003         26518.000000\n",
       "1515915625468061100        114973.000000\n",
       "1515915625468061170        344717.666667\n",
       "1515915625468061514         84516.000000"
      ]
     },
     "execution_count": 51,
     "metadata": {},
     "output_type": "execute_result"
    }
   ],
   "source": [
    "message_to_purchase = t.groupby(['client_id', 'message_id']).agg(min_date=('created_at','min'),\n",
    "                                           max_date=('created_at', 'max'))\n",
    "message_to_purchase['message_to_purchase'] = (message_to_purchase['max_date'] - message_to_purchase['min_date']).dt.total_seconds()\n",
    "message_to_purchase = message_to_purchase.groupby('client_id').agg({'message_to_purchase':'mean'})\n",
    "message_to_purchase.head()"
   ]
  },
  {
   "cell_type": "markdown",
   "id": "NZmiAETiGrBk",
   "metadata": {
    "id": "NZmiAETiGrBk",
    "tags": []
   },
   "source": [
    "### Обобщенный датафрейм"
   ]
  },
  {
   "cell_type": "markdown",
   "id": "e77eb778-699b-498e-aeeb-bb467f71a433",
   "metadata": {},
   "source": [
    "Объединим все датафремы между собой."
   ]
  },
  {
   "cell_type": "code",
   "execution_count": 142,
   "id": "jSKGLQntIDTw",
   "metadata": {
    "colab": {
     "base_uri": "https://localhost:8080/",
     "height": 342
    },
    "id": "jSKGLQntIDTw",
    "outputId": "13633c06-0fef-4aec-e37c-c41617993d37",
    "tags": []
   },
   "outputs": [
    {
     "data": {
      "text/html": [
       "<div>\n",
       "<style scoped>\n",
       "    .dataframe tbody tr th:only-of-type {\n",
       "        vertical-align: middle;\n",
       "    }\n",
       "\n",
       "    .dataframe tbody tr th {\n",
       "        vertical-align: top;\n",
       "    }\n",
       "\n",
       "    .dataframe thead th {\n",
       "        text-align: right;\n",
       "    }\n",
       "</style>\n",
       "<table border=\"1\" class=\"dataframe\">\n",
       "  <thead>\n",
       "    <tr style=\"text-align: right;\">\n",
       "      <th></th>\n",
       "      <th>client_id</th>\n",
       "      <th>quantity</th>\n",
       "      <th>price</th>\n",
       "      <th>category_ids</th>\n",
       "      <th>date_purchase</th>\n",
       "      <th>message_id</th>\n",
       "      <th>level_0</th>\n",
       "      <th>level_1</th>\n",
       "      <th>level_2</th>\n",
       "      <th>level_3</th>\n",
       "      <th>...</th>\n",
       "      <th>month_price_mean</th>\n",
       "      <th>level_0_unique</th>\n",
       "      <th>level_1_unique</th>\n",
       "      <th>level_2_unique</th>\n",
       "      <th>level_3_unique</th>\n",
       "      <th>quantity_by_message</th>\n",
       "      <th>price_by_message</th>\n",
       "      <th>steps_before_purchase</th>\n",
       "      <th>cost_of_step</th>\n",
       "      <th>message_to_purchase</th>\n",
       "    </tr>\n",
       "  </thead>\n",
       "  <tbody>\n",
       "    <tr>\n",
       "      <th>0</th>\n",
       "      <td>1515915625490739153</td>\n",
       "      <td>1</td>\n",
       "      <td>1999.0</td>\n",
       "      <td>[2, 18, 123, 451]</td>\n",
       "      <td>2022-05-16</td>\n",
       "      <td>1515915625490739153-4172-626b943cc789b</td>\n",
       "      <td>2.0</td>\n",
       "      <td>18.0</td>\n",
       "      <td>123.0</td>\n",
       "      <td>451.0</td>\n",
       "      <td>...</td>\n",
       "      <td>1999.0</td>\n",
       "      <td>1</td>\n",
       "      <td>1</td>\n",
       "      <td>1</td>\n",
       "      <td>1</td>\n",
       "      <td>1.0</td>\n",
       "      <td>1999.0</td>\n",
       "      <td>1.0</td>\n",
       "      <td>1999.0</td>\n",
       "      <td>0.0</td>\n",
       "    </tr>\n",
       "    <tr>\n",
       "      <th>1</th>\n",
       "      <td>1515915625491869271</td>\n",
       "      <td>2</td>\n",
       "      <td>599.0</td>\n",
       "      <td>[4, 27, 350, 1392]</td>\n",
       "      <td>2022-05-16</td>\n",
       "      <td>1515915625491869271-2090-61a72488d6a0f</td>\n",
       "      <td>4.0</td>\n",
       "      <td>27.0</td>\n",
       "      <td>350.0</td>\n",
       "      <td>1392.0</td>\n",
       "      <td>...</td>\n",
       "      <td>599.0</td>\n",
       "      <td>1</td>\n",
       "      <td>1</td>\n",
       "      <td>1</td>\n",
       "      <td>1</td>\n",
       "      <td>2.0</td>\n",
       "      <td>599.0</td>\n",
       "      <td>4.0</td>\n",
       "      <td>599.0</td>\n",
       "      <td>22474817.0</td>\n",
       "    </tr>\n",
       "    <tr>\n",
       "      <th>2</th>\n",
       "      <td>1515915625491869271</td>\n",
       "      <td>2</td>\n",
       "      <td>599.0</td>\n",
       "      <td>[4, 27, 350, 1392]</td>\n",
       "      <td>2022-05-16</td>\n",
       "      <td>1515915625491869271-2090-61a72488d6a0f</td>\n",
       "      <td>4.0</td>\n",
       "      <td>27.0</td>\n",
       "      <td>350.0</td>\n",
       "      <td>1392.0</td>\n",
       "      <td>...</td>\n",
       "      <td>599.0</td>\n",
       "      <td>1</td>\n",
       "      <td>1</td>\n",
       "      <td>1</td>\n",
       "      <td>1</td>\n",
       "      <td>2.0</td>\n",
       "      <td>599.0</td>\n",
       "      <td>4.0</td>\n",
       "      <td>599.0</td>\n",
       "      <td>22474817.0</td>\n",
       "    </tr>\n",
       "    <tr>\n",
       "      <th>3</th>\n",
       "      <td>1515915625491869271</td>\n",
       "      <td>2</td>\n",
       "      <td>599.0</td>\n",
       "      <td>[4, 27, 350, 1392]</td>\n",
       "      <td>2022-05-16</td>\n",
       "      <td>1515915625491869271-2090-61a72488d6a0f</td>\n",
       "      <td>4.0</td>\n",
       "      <td>27.0</td>\n",
       "      <td>350.0</td>\n",
       "      <td>1392.0</td>\n",
       "      <td>...</td>\n",
       "      <td>599.0</td>\n",
       "      <td>1</td>\n",
       "      <td>1</td>\n",
       "      <td>1</td>\n",
       "      <td>1</td>\n",
       "      <td>2.0</td>\n",
       "      <td>599.0</td>\n",
       "      <td>4.0</td>\n",
       "      <td>599.0</td>\n",
       "      <td>22474817.0</td>\n",
       "    </tr>\n",
       "    <tr>\n",
       "      <th>4</th>\n",
       "      <td>1515915625491869271</td>\n",
       "      <td>2</td>\n",
       "      <td>599.0</td>\n",
       "      <td>[4, 27, 350, 1392]</td>\n",
       "      <td>2022-05-16</td>\n",
       "      <td>1515915625491869271-2090-61a72488d6a0f</td>\n",
       "      <td>4.0</td>\n",
       "      <td>27.0</td>\n",
       "      <td>350.0</td>\n",
       "      <td>1392.0</td>\n",
       "      <td>...</td>\n",
       "      <td>599.0</td>\n",
       "      <td>1</td>\n",
       "      <td>1</td>\n",
       "      <td>1</td>\n",
       "      <td>1</td>\n",
       "      <td>2.0</td>\n",
       "      <td>599.0</td>\n",
       "      <td>4.0</td>\n",
       "      <td>599.0</td>\n",
       "      <td>22474817.0</td>\n",
       "    </tr>\n",
       "  </tbody>\n",
       "</table>\n",
       "<p>5 rows × 36 columns</p>\n",
       "</div>"
      ],
      "text/plain": [
       "             client_id  quantity   price        category_ids date_purchase  \\\n",
       "0  1515915625490739153         1  1999.0   [2, 18, 123, 451]    2022-05-16   \n",
       "1  1515915625491869271         2   599.0  [4, 27, 350, 1392]    2022-05-16   \n",
       "2  1515915625491869271         2   599.0  [4, 27, 350, 1392]    2022-05-16   \n",
       "3  1515915625491869271         2   599.0  [4, 27, 350, 1392]    2022-05-16   \n",
       "4  1515915625491869271         2   599.0  [4, 27, 350, 1392]    2022-05-16   \n",
       "\n",
       "                               message_id  level_0  level_1  level_2  level_3  \\\n",
       "0  1515915625490739153-4172-626b943cc789b      2.0     18.0    123.0    451.0   \n",
       "1  1515915625491869271-2090-61a72488d6a0f      4.0     27.0    350.0   1392.0   \n",
       "2  1515915625491869271-2090-61a72488d6a0f      4.0     27.0    350.0   1392.0   \n",
       "3  1515915625491869271-2090-61a72488d6a0f      4.0     27.0    350.0   1392.0   \n",
       "4  1515915625491869271-2090-61a72488d6a0f      4.0     27.0    350.0   1392.0   \n",
       "\n",
       "   ... month_price_mean  level_0_unique level_1_unique level_2_unique  \\\n",
       "0  ...           1999.0               1              1              1   \n",
       "1  ...            599.0               1              1              1   \n",
       "2  ...            599.0               1              1              1   \n",
       "3  ...            599.0               1              1              1   \n",
       "4  ...            599.0               1              1              1   \n",
       "\n",
       "  level_3_unique quantity_by_message  price_by_message  steps_before_purchase  \\\n",
       "0              1                 1.0            1999.0                    1.0   \n",
       "1              1                 2.0             599.0                    4.0   \n",
       "2              1                 2.0             599.0                    4.0   \n",
       "3              1                 2.0             599.0                    4.0   \n",
       "4              1                 2.0             599.0                    4.0   \n",
       "\n",
       "   cost_of_step  message_to_purchase  \n",
       "0        1999.0                  0.0  \n",
       "1         599.0           22474817.0  \n",
       "2         599.0           22474817.0  \n",
       "3         599.0           22474817.0  \n",
       "4         599.0           22474817.0  \n",
       "\n",
       "[5 rows x 36 columns]"
      ]
     },
     "execution_count": 142,
     "metadata": {},
     "output_type": "execute_result"
    }
   ],
   "source": [
    "df = purchases.merge(messages, how='inner', on=['client_id', 'message_id'], suffixes=('_purchase', '_message'))\n",
    "df = df.merge(target, how='inner', on='client_id')\n",
    "df = df.merge(purchases_agg, how='left', on='client_id')\n",
    "df = df.merge(client_activity, how='left', on='client_id')\n",
    "df = df.merge(pre_purchase_engagement, how='left', on='client_id')\n",
    "df = df.merge(percentage_channel, how='left', on='client_id')\n",
    "df = df.merge(purchases_by_month, how='left', on='client_id')\n",
    "df = df.merge(purchases_diversity, how='left', on='client_id')\n",
    "df = df.merge(purchases_by_message, how='left', on='client_id')\n",
    "df = df.merge(steps, how='left', on='client_id')\n",
    "df = df.merge(message_to_purchase, how='left', on='client_id')\n",
    "# df = df.fillna(0)\n",
    "df.head()"
   ]
  },
  {
   "cell_type": "code",
   "execution_count": 143,
   "id": "3f708c21-4645-4266-bfe2-9bfec7133d3c",
   "metadata": {
    "tags": []
   },
   "outputs": [
    {
     "data": {
      "text/plain": [
       "client_id                  0.000000\n",
       "quantity                   0.000000\n",
       "price                      0.000000\n",
       "category_ids               0.021965\n",
       "date_purchase              0.000000\n",
       "message_id                 0.000000\n",
       "level_0                    0.000000\n",
       "level_1                    0.000000\n",
       "level_2                    0.000000\n",
       "level_3                    0.021965\n",
       "start_month                0.000000\n",
       "bulk_campaign_id           0.000000\n",
       "event                      0.000000\n",
       "channel                    0.000000\n",
       "date_message               0.000000\n",
       "created_at                 0.000000\n",
       "target                     0.000000\n",
       "quantity_mean              0.000000\n",
       "price_mean                 0.000000\n",
       "level_0_mode               0.000000\n",
       "level_1_mode               0.000000\n",
       "activity                   0.000000\n",
       "pre_purchase_engagement    0.000020\n",
       "per_email                  0.000000\n",
       "per_mobile_push            0.000000\n",
       "month_quantity_mean        0.000000\n",
       "month_price_mean           0.000000\n",
       "level_0_unique             0.000000\n",
       "level_1_unique             0.000000\n",
       "level_2_unique             0.000000\n",
       "level_3_unique             0.000000\n",
       "quantity_by_message        0.000000\n",
       "price_by_message           0.000000\n",
       "steps_before_purchase      0.000000\n",
       "cost_of_step               0.000000\n",
       "message_to_purchase        0.000000\n",
       "dtype: float64"
      ]
     },
     "execution_count": 143,
     "metadata": {},
     "output_type": "execute_result"
    }
   ],
   "source": [
    "df.isna().mean()"
   ]
  },
  {
   "cell_type": "code",
   "execution_count": 144,
   "id": "a6df7548-6a77-4666-a19a-9fe7d4f93511",
   "metadata": {
    "tags": []
   },
   "outputs": [],
   "source": [
    "df[['level_0', 'level_1', 'level_2', 'level_3']] = df[['level_0', 'level_1', 'level_2', 'level_3']].fillna('unknown')\n",
    "df['pre_purchase_engagement'] = df['pre_purchase_engagement'].fillna(0)"
   ]
  },
  {
   "cell_type": "markdown",
   "id": "wxnMXYboI-oe",
   "metadata": {
    "id": "wxnMXYboI-oe"
   },
   "source": [
    "#### phik-корреляция"
   ]
  },
  {
   "cell_type": "code",
   "execution_count": 145,
   "id": "RhR93jgYIDZl",
   "metadata": {
    "id": "RhR93jgYIDZl",
    "tags": []
   },
   "outputs": [],
   "source": [
    "interval_cols = ['quantity_mean', 'price_mean','activity', 'pre_purchase_engagement', 'per_email', 'per_mobile_push',\n",
    "                 'month_quantity_mean', 'month_price_mean', 'level_0_unique', 'level_1_unique', 'level_2_unique','level_3_unique',\n",
    "                 'quantity_by_message', 'price_by_message', 'steps_before_purchase', 'cost_of_step', 'message_to_purchase']\n",
    "\n",
    "\n",
    "phik_corr = df[['target'] + interval_cols  + ['level_0_mode', 'level_1_mode']].phik_matrix(interval_cols=interval_cols)"
   ]
  },
  {
   "cell_type": "code",
   "execution_count": 146,
   "id": "cYtDU6zDIDc1",
   "metadata": {
    "colab": {
     "base_uri": "https://localhost:8080/",
     "height": 1000
    },
    "id": "cYtDU6zDIDc1",
    "outputId": "1ab13021-69b8-4f05-ba05-91dde5d75578",
    "tags": []
   },
   "outputs": [
    {
     "data": {
      "image/png": "[encoded data removed]",
      "text/plain": [
       "<Figure size 1200x1200 with 2 Axes>"
      ]
     },
     "metadata": {},
     "output_type": "display_data"
    }
   ],
   "source": [
    "plt.figure(figsize=(12,12))\n",
    "sns.heatmap(phik_corr, annot=True, cmap='coolwarm', center=0, fmt='.2f');"
   ]
  },
  {
   "cell_type": "markdown",
   "id": "5b64d185-9db2-4a99-9dcf-1afeb5a9de52",
   "metadata": {},
   "source": [
    "В основном признаки плохо коррелируют с целевой переменной, но есть признаки, у которых корреляция больше 0,1 – их мы и будем использовать при обучении. Но необходимо удостовериться, что эти отобранные признаки не сильно коррелируют между собой. "
   ]
  },
  {
   "cell_type": "markdown",
   "id": "2bb434eb-4e5b-47f9-ac4f-d7a5e9eca984",
   "metadata": {
    "id": "2bb434eb-4e5b-47f9-ac4f-d7a5e9eca984"
   },
   "source": [
    "#### Отбор признаков"
   ]
  },
  {
   "cell_type": "markdown",
   "id": "8feea07f-ce3a-4a0b-aebd-3b0bc2c1d72b",
   "metadata": {
    "colab": {
     "base_uri": "https://localhost:8080/",
     "height": 398
    },
    "id": "BDBwGKaSIDf0",
    "outputId": "17adcb02-88b1-459d-b11d-693d829dfe8b"
   },
   "source": [
    "Отберем признаки с помощью функции select_features."
   ]
  },
  {
   "cell_type": "code",
   "execution_count": 147,
   "id": "Lhc06ZHGIDly",
   "metadata": {
    "id": "Lhc06ZHGIDly",
    "tags": []
   },
   "outputs": [],
   "source": [
    "threshold = 0.05\n",
    "features = select_features(phik_corr, 'target', threshold=threshold, multicollinearity_thresh=0.9)"
   ]
  },
  {
   "cell_type": "code",
   "execution_count": 148,
   "id": "IVKqcDy9IDoT",
   "metadata": {
    "colab": {
     "base_uri": "https://localhost:8080/"
    },
    "id": "IVKqcDy9IDoT",
    "outputId": "00ad223c-7aa7-4d0b-f78d-6fa8a529ce6c",
    "tags": []
   },
   "outputs": [
    {
     "data": {
      "text/plain": [
       "['level_1_unique',\n",
       " 'activity',\n",
       " 'level_3_unique',\n",
       " 'pre_purchase_engagement',\n",
       " 'level_0_unique',\n",
       " 'level_1_mode',\n",
       " 'per_mobile_push',\n",
       " 'price_by_message',\n",
       " 'quantity_by_message']"
      ]
     },
     "execution_count": 148,
     "metadata": {},
     "output_type": "execute_result"
    }
   ],
   "source": [
    "features"
   ]
  },
  {
   "cell_type": "markdown",
   "id": "7eb60820-3f5b-4b64-86ee-31d08f7736b3",
   "metadata": {
    "id": "7eb60820-3f5b-4b64-86ee-31d08f7736b3"
   },
   "source": [
    "### Создание обучающей и тестовой выборок"
   ]
  },
  {
   "cell_type": "code",
   "execution_count": 149,
   "id": "54cbf4c3-2696-44c6-af53-b426a15a5098",
   "metadata": {
    "tags": []
   },
   "outputs": [
    {
     "data": {
      "text/html": [
       "<div>\n",
       "<style scoped>\n",
       "    .dataframe tbody tr th:only-of-type {\n",
       "        vertical-align: middle;\n",
       "    }\n",
       "\n",
       "    .dataframe tbody tr th {\n",
       "        vertical-align: top;\n",
       "    }\n",
       "\n",
       "    .dataframe thead th {\n",
       "        text-align: right;\n",
       "    }\n",
       "</style>\n",
       "<table border=\"1\" class=\"dataframe\">\n",
       "  <thead>\n",
       "    <tr style=\"text-align: right;\">\n",
       "      <th></th>\n",
       "      <th>level_1_unique</th>\n",
       "      <th>activity</th>\n",
       "      <th>level_3_unique</th>\n",
       "      <th>pre_purchase_engagement</th>\n",
       "      <th>level_0_unique</th>\n",
       "      <th>level_1_mode</th>\n",
       "      <th>per_mobile_push</th>\n",
       "      <th>price_by_message</th>\n",
       "      <th>quantity_by_message</th>\n",
       "      <th>target</th>\n",
       "    </tr>\n",
       "  </thead>\n",
       "  <tbody>\n",
       "    <tr>\n",
       "      <th>0</th>\n",
       "      <td>1</td>\n",
       "      <td>0.03</td>\n",
       "      <td>1</td>\n",
       "      <td>1.0</td>\n",
       "      <td>1</td>\n",
       "      <td>18.0</td>\n",
       "      <td>0.65</td>\n",
       "      <td>1999.0</td>\n",
       "      <td>1.0</td>\n",
       "      <td>0</td>\n",
       "    </tr>\n",
       "    <tr>\n",
       "      <th>1</th>\n",
       "      <td>1</td>\n",
       "      <td>0.02</td>\n",
       "      <td>1</td>\n",
       "      <td>1.5</td>\n",
       "      <td>1</td>\n",
       "      <td>27.0</td>\n",
       "      <td>0.58</td>\n",
       "      <td>599.0</td>\n",
       "      <td>2.0</td>\n",
       "      <td>0</td>\n",
       "    </tr>\n",
       "  </tbody>\n",
       "</table>\n",
       "</div>"
      ],
      "text/plain": [
       "   level_1_unique  activity  level_3_unique  pre_purchase_engagement  \\\n",
       "0               1      0.03               1                      1.0   \n",
       "1               1      0.02               1                      1.5   \n",
       "\n",
       "   level_0_unique  level_1_mode  per_mobile_push  price_by_message  \\\n",
       "0               1          18.0             0.65            1999.0   \n",
       "1               1          27.0             0.58             599.0   \n",
       "\n",
       "   quantity_by_message  target  \n",
       "0                  1.0       0  \n",
       "1                  2.0       0  "
      ]
     },
     "execution_count": 149,
     "metadata": {},
     "output_type": "execute_result"
    }
   ],
   "source": [
    "df = df[features+['target']]\n",
    "df.head(2)"
   ]
  },
  {
   "cell_type": "code",
   "execution_count": 150,
   "id": "b32e2e6e-cb9b-4e49-9f54-278ff895e356",
   "metadata": {
    "tags": []
   },
   "outputs": [
    {
     "data": {
      "text/plain": [
       "464950"
      ]
     },
     "execution_count": 150,
     "metadata": {},
     "output_type": "execute_result"
    }
   ],
   "source": [
    "df.duplicated().sum()"
   ]
  },
  {
   "cell_type": "code",
   "execution_count": 151,
   "id": "30c0f1b7-4ba1-4f8c-868b-7284414caba3",
   "metadata": {
    "tags": []
   },
   "outputs": [],
   "source": [
    "df = df.drop_duplicates()"
   ]
  },
  {
   "cell_type": "code",
   "execution_count": 152,
   "id": "f54c7018-ed58-4b19-860d-cd97afadaf2f",
   "metadata": {
    "tags": []
   },
   "outputs": [
    {
     "data": {
      "text/plain": [
       "(37175, 10)"
      ]
     },
     "execution_count": 152,
     "metadata": {},
     "output_type": "execute_result"
    }
   ],
   "source": [
    "df.shape"
   ]
  },
  {
   "cell_type": "code",
   "execution_count": 153,
   "id": "0d0c9c80-ff48-405b-91bc-d40d107df482",
   "metadata": {
    "id": "0d0c9c80-ff48-405b-91bc-d40d107df482",
    "tags": []
   },
   "outputs": [],
   "source": [
    "X = df[features]\n",
    "y = df['target']"
   ]
  },
  {
   "cell_type": "code",
   "execution_count": 154,
   "id": "ca9c076e-dd04-480b-8ef9-db69b8c368e8",
   "metadata": {
    "id": "ca9c076e-dd04-480b-8ef9-db69b8c368e8",
    "tags": []
   },
   "outputs": [],
   "source": [
    "X_train, X_test, y_train, y_test = train_test_split(X, y, test_size=0.4, random_state=42, stratify=y)"
   ]
  },
  {
   "cell_type": "code",
   "execution_count": 155,
   "id": "6fbd7f2a-ef96-4a95-bf4b-14c66b4e7688",
   "metadata": {
    "colab": {
     "base_uri": "https://localhost:8080/",
     "height": 444
    },
    "id": "6fbd7f2a-ef96-4a95-bf4b-14c66b4e7688",
    "outputId": "10725c72-3ee7-4b75-e8f9-eb77b5866fcf",
    "tags": []
   },
   "outputs": [
    {
     "data": {
      "text/plain": [
       "(22305, 9)"
      ]
     },
     "execution_count": 155,
     "metadata": {},
     "output_type": "execute_result"
    }
   ],
   "source": [
    "X_train.shape"
   ]
  },
  {
   "cell_type": "code",
   "execution_count": 156,
   "id": "be1d736a-2220-4a5a-a123-1cb706e7e854",
   "metadata": {
    "colab": {
     "base_uri": "https://localhost:8080/",
     "height": 458
    },
    "id": "be1d736a-2220-4a5a-a123-1cb706e7e854",
    "outputId": "18f8f50e-85ac-4561-a52f-9988182d0927",
    "tags": []
   },
   "outputs": [
    {
     "data": {
      "text/plain": [
       "166118    0\n",
       "262049    0\n",
       "Name: target, dtype: int64"
      ]
     },
     "execution_count": 156,
     "metadata": {},
     "output_type": "execute_result"
    }
   ],
   "source": [
    "y_train.head(2)"
   ]
  },
  {
   "cell_type": "markdown",
   "id": "d8ac5b4f-1dea-4bcb-9c64-c46d2ce496c0",
   "metadata": {
    "id": "d8ac5b4f-1dea-4bcb-9c64-c46d2ce496c0"
   },
   "source": [
    "## Обучение моделей"
   ]
  },
  {
   "cell_type": "markdown",
   "id": "6a9b71eb-2ee3-4b48-a835-6afe85448eeb",
   "metadata": {
    "tags": []
   },
   "source": [
    "При обучении модели будем использовать 3 алгоритма: логистическая регрессия, случайный лес, градиентный бустинг."
   ]
  },
  {
   "cell_type": "markdown",
   "id": "6bf06a72-0243-4a81-9418-30bd32d5499d",
   "metadata": {
    "id": "6bf06a72-0243-4a81-9418-30bd32d5499d"
   },
   "source": [
    "### Логистическая регрессия"
   ]
  },
  {
   "cell_type": "code",
   "execution_count": 157,
   "id": "29749bac-05f8-4078-a149-a332e3665313",
   "metadata": {
    "tags": []
   },
   "outputs": [
    {
     "data": {
      "text/html": [
       "<div>\n",
       "<style scoped>\n",
       "    .dataframe tbody tr th:only-of-type {\n",
       "        vertical-align: middle;\n",
       "    }\n",
       "\n",
       "    .dataframe tbody tr th {\n",
       "        vertical-align: top;\n",
       "    }\n",
       "\n",
       "    .dataframe thead th {\n",
       "        text-align: right;\n",
       "    }\n",
       "</style>\n",
       "<table border=\"1\" class=\"dataframe\">\n",
       "  <thead>\n",
       "    <tr style=\"text-align: right;\">\n",
       "      <th></th>\n",
       "      <th>num__level_1_unique</th>\n",
       "      <th>num__activity</th>\n",
       "      <th>num__level_3_unique</th>\n",
       "      <th>num__pre_purchase_engagement</th>\n",
       "      <th>num__level_0_unique</th>\n",
       "      <th>num__per_mobile_push</th>\n",
       "      <th>num__price_by_message</th>\n",
       "      <th>num__quantity_by_message</th>\n",
       "      <th>cat__level_1_mode_0.0</th>\n",
       "      <th>cat__level_1_mode_12.0</th>\n",
       "      <th>...</th>\n",
       "      <th>cat__level_1_mode_5632.0</th>\n",
       "      <th>cat__level_1_mode_5633.0</th>\n",
       "      <th>cat__level_1_mode_5634.0</th>\n",
       "      <th>cat__level_1_mode_5683.0</th>\n",
       "      <th>cat__level_1_mode_5697.0</th>\n",
       "      <th>cat__level_1_mode_5837.0</th>\n",
       "      <th>cat__level_1_mode_5959.0</th>\n",
       "      <th>cat__level_1_mode_6057.0</th>\n",
       "      <th>cat__level_1_mode_6058.0</th>\n",
       "      <th>cat__level_1_mode_6059.0</th>\n",
       "    </tr>\n",
       "  </thead>\n",
       "  <tbody>\n",
       "    <tr>\n",
       "      <th>0</th>\n",
       "      <td>-0.441319</td>\n",
       "      <td>-0.149006</td>\n",
       "      <td>0.099689</td>\n",
       "      <td>-0.053119</td>\n",
       "      <td>-0.39135</td>\n",
       "      <td>-0.909711</td>\n",
       "      <td>1.103804</td>\n",
       "      <td>0.417018</td>\n",
       "      <td>0.0</td>\n",
       "      <td>0.0</td>\n",
       "      <td>...</td>\n",
       "      <td>0.0</td>\n",
       "      <td>0.0</td>\n",
       "      <td>0.0</td>\n",
       "      <td>0.0</td>\n",
       "      <td>0.0</td>\n",
       "      <td>0.0</td>\n",
       "      <td>0.0</td>\n",
       "      <td>0.0</td>\n",
       "      <td>0.0</td>\n",
       "      <td>0.0</td>\n",
       "    </tr>\n",
       "    <tr>\n",
       "      <th>1</th>\n",
       "      <td>-0.441319</td>\n",
       "      <td>-0.813715</td>\n",
       "      <td>-0.519341</td>\n",
       "      <td>-0.485105</td>\n",
       "      <td>-0.39135</td>\n",
       "      <td>1.370860</td>\n",
       "      <td>-0.754864</td>\n",
       "      <td>-0.083868</td>\n",
       "      <td>0.0</td>\n",
       "      <td>0.0</td>\n",
       "      <td>...</td>\n",
       "      <td>0.0</td>\n",
       "      <td>0.0</td>\n",
       "      <td>0.0</td>\n",
       "      <td>0.0</td>\n",
       "      <td>0.0</td>\n",
       "      <td>0.0</td>\n",
       "      <td>0.0</td>\n",
       "      <td>0.0</td>\n",
       "      <td>0.0</td>\n",
       "      <td>0.0</td>\n",
       "    </tr>\n",
       "  </tbody>\n",
       "</table>\n",
       "<p>2 rows × 37 columns</p>\n",
       "</div>"
      ],
      "text/plain": [
       "   num__level_1_unique  num__activity  num__level_3_unique  \\\n",
       "0            -0.441319      -0.149006             0.099689   \n",
       "1            -0.441319      -0.813715            -0.519341   \n",
       "\n",
       "   num__pre_purchase_engagement  num__level_0_unique  num__per_mobile_push  \\\n",
       "0                     -0.053119             -0.39135             -0.909711   \n",
       "1                     -0.485105             -0.39135              1.370860   \n",
       "\n",
       "   num__price_by_message  num__quantity_by_message  cat__level_1_mode_0.0  \\\n",
       "0               1.103804                  0.417018                    0.0   \n",
       "1              -0.754864                 -0.083868                    0.0   \n",
       "\n",
       "   cat__level_1_mode_12.0  ...  cat__level_1_mode_5632.0  \\\n",
       "0                     0.0  ...                       0.0   \n",
       "1                     0.0  ...                       0.0   \n",
       "\n",
       "   cat__level_1_mode_5633.0  cat__level_1_mode_5634.0  \\\n",
       "0                       0.0                       0.0   \n",
       "1                       0.0                       0.0   \n",
       "\n",
       "   cat__level_1_mode_5683.0  cat__level_1_mode_5697.0  \\\n",
       "0                       0.0                       0.0   \n",
       "1                       0.0                       0.0   \n",
       "\n",
       "   cat__level_1_mode_5837.0  cat__level_1_mode_5959.0  \\\n",
       "0                       0.0                       0.0   \n",
       "1                       0.0                       0.0   \n",
       "\n",
       "   cat__level_1_mode_6057.0  cat__level_1_mode_6058.0  \\\n",
       "0                       0.0                       0.0   \n",
       "1                       0.0                       0.0   \n",
       "\n",
       "   cat__level_1_mode_6059.0  \n",
       "0                       0.0  \n",
       "1                       0.0  \n",
       "\n",
       "[2 rows x 37 columns]"
      ]
     },
     "execution_count": 157,
     "metadata": {},
     "output_type": "execute_result"
    }
   ],
   "source": [
    "categorical_cols = ['level_1_mode'] \n",
    "numeric_cols = [el for el in features if el not in categorical_cols]\n",
    "\n",
    "preprocessor = ColumnTransformer(\n",
    "    transformers=[\n",
    "        ('num', StandardScaler(), numeric_cols),  # StandardScaler для числовых колонок\n",
    "        ('cat', OneHotEncoder(), categorical_cols)  # OHE для категориальной колонки\n",
    "    ])\n",
    "\n",
    "preprocessor.fit(X_train)\n",
    "\n",
    "X_train_processed = pd.DataFrame(data=preprocessor.transform(X_train).toarray(),\n",
    "                                 columns=preprocessor.get_feature_names_out())\n",
    "X_test_processed = pd.DataFrame(data=preprocessor.transform(X_test).toarray(),\n",
    "                                 columns=preprocessor.get_feature_names_out())\n",
    "X_train_processed.head(2)"
   ]
  },
  {
   "cell_type": "code",
   "execution_count": 158,
   "id": "28252e1f-c9cd-4062-9e53-e1d49a5ea643",
   "metadata": {
    "id": "28252e1f-c9cd-4062-9e53-e1d49a5ea643",
    "tags": []
   },
   "outputs": [],
   "source": [
    "pipeline = Pipeline([\n",
    "    # ('scaler', StandardScaler()),\n",
    "    ('model', LogisticRegression(class_weight='balanced', random_state=42, tol=1e-1))\n",
    "    ])\n",
    "\n",
    "param_grid = {\n",
    "    'model__C':[0.01, 0.1, 1, 10, 100],\n",
    "    'model__penalty': ['l1', 'l2'],\n",
    "    'model__solver': ['liblinear', 'saga']\n",
    "}\n",
    "\n",
    "grid_search = GridSearchCV(\n",
    "    pipeline,\n",
    "    param_grid,\n",
    "    cv=3,\n",
    "    scoring='roc_auc')"
   ]
  },
  {
   "cell_type": "code",
   "execution_count": 159,
   "id": "16785503-6b4c-4c9a-8558-ddb64cda9758",
   "metadata": {
    "colab": {
     "base_uri": "https://localhost:8080/"
    },
    "id": "16785503-6b4c-4c9a-8558-ddb64cda9758",
    "outputId": "7fdcbc20-56f2-4f90-93a3-67a01046a807",
    "tags": []
   },
   "outputs": [
    {
     "name": "stdout",
     "output_type": "stream",
     "text": [
      "Лучшие параметры: {'model__C': 0.01, 'model__penalty': 'l2', 'model__solver': 'saga'}\n",
      "roc_auc = : 0.68\n"
     ]
    }
   ],
   "source": [
    "get_metrics(grid_search, X_train_processed, y_train)"
   ]
  },
  {
   "cell_type": "markdown",
   "id": "69510036-d5f7-414d-a699-c15d1e27b826",
   "metadata": {
    "id": "69510036-d5f7-414d-a699-c15d1e27b826"
   },
   "source": [
    "### Случайный лес"
   ]
  },
  {
   "cell_type": "code",
   "execution_count": 184,
   "id": "658f59ba-b330-42eb-9715-1a93d7b67268",
   "metadata": {
    "tags": []
   },
   "outputs": [
    {
     "data": {
      "text/html": [
       "<div>\n",
       "<style scoped>\n",
       "    .dataframe tbody tr th:only-of-type {\n",
       "        vertical-align: middle;\n",
       "    }\n",
       "\n",
       "    .dataframe tbody tr th {\n",
       "        vertical-align: top;\n",
       "    }\n",
       "\n",
       "    .dataframe thead th {\n",
       "        text-align: right;\n",
       "    }\n",
       "</style>\n",
       "<table border=\"1\" class=\"dataframe\">\n",
       "  <thead>\n",
       "    <tr style=\"text-align: right;\">\n",
       "      <th></th>\n",
       "      <th>level_1_unique</th>\n",
       "      <th>activity</th>\n",
       "      <th>level_3_unique</th>\n",
       "      <th>pre_purchase_engagement</th>\n",
       "      <th>level_0_unique</th>\n",
       "      <th>level_1_mode</th>\n",
       "      <th>per_mobile_push</th>\n",
       "      <th>price_by_message</th>\n",
       "      <th>quantity_by_message</th>\n",
       "      <th>level_1_mode_encode</th>\n",
       "    </tr>\n",
       "  </thead>\n",
       "  <tbody>\n",
       "    <tr>\n",
       "      <th>166118</th>\n",
       "      <td>1</td>\n",
       "      <td>0.34</td>\n",
       "      <td>2</td>\n",
       "      <td>1.47</td>\n",
       "      <td>1</td>\n",
       "      <td>28.0</td>\n",
       "      <td>0.12</td>\n",
       "      <td>6798.0</td>\n",
       "      <td>3.0</td>\n",
       "      <td>6</td>\n",
       "    </tr>\n",
       "    <tr>\n",
       "      <th>262049</th>\n",
       "      <td>1</td>\n",
       "      <td>0.06</td>\n",
       "      <td>1</td>\n",
       "      <td>1.18</td>\n",
       "      <td>1</td>\n",
       "      <td>27.0</td>\n",
       "      <td>1.00</td>\n",
       "      <td>67.0</td>\n",
       "      <td>2.0</td>\n",
       "      <td>5</td>\n",
       "    </tr>\n",
       "  </tbody>\n",
       "</table>\n",
       "</div>"
      ],
      "text/plain": [
       "        level_1_unique  activity  level_3_unique  pre_purchase_engagement  \\\n",
       "166118               1      0.34               2                     1.47   \n",
       "262049               1      0.06               1                     1.18   \n",
       "\n",
       "        level_0_unique  level_1_mode  per_mobile_push  price_by_message  \\\n",
       "166118               1          28.0             0.12            6798.0   \n",
       "262049               1          27.0             1.00              67.0   \n",
       "\n",
       "        quantity_by_message  level_1_mode_encode  \n",
       "166118                  3.0                    6  \n",
       "262049                  2.0                    5  "
      ]
     },
     "execution_count": 184,
     "metadata": {},
     "output_type": "execute_result"
    }
   ],
   "source": [
    "le = LabelEncoder()\n",
    "le.fit(X_train['level_1_mode'])\n",
    "X_train['level_1_mode_encode'] = le.transform(X_train['level_1_mode'])\n",
    "X_test['level_1_mode_encode'] = le.transform(X_test['level_1_mode'])\n",
    "X_train.head(2)"
   ]
  },
  {
   "cell_type": "code",
   "execution_count": 185,
   "id": "rZSqrqFEIDty",
   "metadata": {
    "id": "rZSqrqFEIDty",
    "tags": []
   },
   "outputs": [],
   "source": [
    "param_grid = {\n",
    "    'n_estimators': [50, 100, 200],\n",
    "    'max_depth': [3, 5, 7, None],\n",
    "    'min_samples_leaf': [1, 2, 4]\n",
    "}\n",
    "\n",
    "grid_search = GridSearchCV(\n",
    "    RandomForestClassifier(random_state=42, class_weight='balanced'),\n",
    "    param_grid,\n",
    "    cv=3,\n",
    "    scoring='roc_auc',\n",
    "    n_jobs=-1)"
   ]
  },
  {
   "cell_type": "code",
   "execution_count": 187,
   "id": "550765ac-2794-48d6-a126-7a2ca582a27c",
   "metadata": {
    "tags": []
   },
   "outputs": [
    {
     "name": "stdout",
     "output_type": "stream",
     "text": [
      "Лучшие параметры: {'max_depth': 5, 'min_samples_leaf': 1, 'n_estimators': 200}\n",
      "roc_auc = : 0.70\n"
     ]
    }
   ],
   "source": [
    "get_metrics(grid_search, X_train.drop(columns='level_1_mode'), y_train)"
   ]
  },
  {
   "cell_type": "markdown",
   "id": "1f967909-e255-40b0-92d7-8dadab4e8014",
   "metadata": {
    "id": "21c2b88e-f371-45df-a1f4-3474dcd978fa",
    "tags": []
   },
   "source": [
    "#### Градиентный бустинг - Catboost"
   ]
  },
  {
   "cell_type": "code",
   "execution_count": 176,
   "id": "f7c0305c-00f1-4b26-9629-dcb01441ac43",
   "metadata": {
    "id": "f7c0305c-00f1-4b26-9629-dcb01441ac43",
    "tags": []
   },
   "outputs": [
    {
     "data": {
      "text/html": [
       "<style>#sk-container-id-3 {color: black;background-color: white;}#sk-container-id-3 pre{padding: 0;}#sk-container-id-3 div.sk-toggleable {background-color: white;}#sk-container-id-3 label.sk-toggleable__label {cursor: pointer;display: block;width: 100%;margin-bottom: 0;padding: 0.3em;box-sizing: border-box;text-align: center;}#sk-container-id-3 label.sk-toggleable__label-arrow:before {content: \"▸\";float: left;margin-right: 0.25em;color: #696969;}#sk-container-id-3 label.sk-toggleable__label-arrow:hover:before {color: black;}#sk-container-id-3 div.sk-estimator:hover label.sk-toggleable__label-arrow:before {color: black;}#sk-container-id-3 div.sk-toggleable__content {max-height: 0;max-width: 0;overflow: hidden;text-align: left;background-color: #f0f8ff;}#sk-container-id-3 div.sk-toggleable__content pre {margin: 0.2em;color: black;border-radius: 0.25em;background-color: #f0f8ff;}#sk-container-id-3 input.sk-toggleable__control:checked~div.sk-toggleable__content {max-height: 200px;max-width: 100%;overflow: auto;}#sk-container-id-3 input.sk-toggleable__control:checked~label.sk-toggleable__label-arrow:before {content: \"▾\";}#sk-container-id-3 div.sk-estimator input.sk-toggleable__control:checked~label.sk-toggleable__label {background-color: #d4ebff;}#sk-container-id-3 div.sk-label input.sk-toggleable__control:checked~label.sk-toggleable__label {background-color: #d4ebff;}#sk-container-id-3 input.sk-hidden--visually {border: 0;clip: rect(1px 1px 1px 1px);clip: rect(1px, 1px, 1px, 1px);height: 1px;margin: -1px;overflow: hidden;padding: 0;position: absolute;width: 1px;}#sk-container-id-3 div.sk-estimator {font-family: monospace;background-color: #f0f8ff;border: 1px dotted black;border-radius: 0.25em;box-sizing: border-box;margin-bottom: 0.5em;}#sk-container-id-3 div.sk-estimator:hover {background-color: #d4ebff;}#sk-container-id-3 div.sk-parallel-item::after {content: \"\";width: 100%;border-bottom: 1px solid gray;flex-grow: 1;}#sk-container-id-3 div.sk-label:hover label.sk-toggleable__label {background-color: #d4ebff;}#sk-container-id-3 div.sk-serial::before {content: \"\";position: absolute;border-left: 1px solid gray;box-sizing: border-box;top: 0;bottom: 0;left: 50%;z-index: 0;}#sk-container-id-3 div.sk-serial {display: flex;flex-direction: column;align-items: center;background-color: white;padding-right: 0.2em;padding-left: 0.2em;position: relative;}#sk-container-id-3 div.sk-item {position: relative;z-index: 1;}#sk-container-id-3 div.sk-parallel {display: flex;align-items: stretch;justify-content: center;background-color: white;position: relative;}#sk-container-id-3 div.sk-item::before, #sk-container-id-3 div.sk-parallel-item::before {content: \"\";position: absolute;border-left: 1px solid gray;box-sizing: border-box;top: 0;bottom: 0;left: 50%;z-index: -1;}#sk-container-id-3 div.sk-parallel-item {display: flex;flex-direction: column;z-index: 1;position: relative;background-color: white;}#sk-container-id-3 div.sk-parallel-item:first-child::after {align-self: flex-end;width: 50%;}#sk-container-id-3 div.sk-parallel-item:last-child::after {align-self: flex-start;width: 50%;}#sk-container-id-3 div.sk-parallel-item:only-child::after {width: 0;}#sk-container-id-3 div.sk-dashed-wrapped {border: 1px dashed gray;margin: 0 0.4em 0.5em 0.4em;box-sizing: border-box;padding-bottom: 0.4em;background-color: white;}#sk-container-id-3 div.sk-label label {font-family: monospace;font-weight: bold;display: inline-block;line-height: 1.2em;}#sk-container-id-3 div.sk-label-container {text-align: center;}#sk-container-id-3 div.sk-container {/* jupyter's `normalize.less` sets `[hidden] { display: none; }` but bootstrap.min.css set `[hidden] { display: none !important; }` so we also need the `!important` here to be able to override the default hidden behavior on the sphinx rendered scikit-learn.org. See: https://github.com/scikit-learn/scikit-learn/issues/21755 */display: inline-block !important;position: relative;}#sk-container-id-3 div.sk-text-repr-fallback {display: none;}</style><div id=\"sk-container-id-3\" class=\"sk-top-container\"><div class=\"sk-text-repr-fallback\"><pre>GridSearchCV(cv=3,\n",
       "             estimator=&lt;catboost.core.CatBoostClassifier object at 0x000001EE0EF8AD90&gt;,\n",
       "             n_jobs=-1,\n",
       "             param_grid={&#x27;auto_class_weights&#x27;: [&#x27;Balanced&#x27;], &#x27;depth&#x27;: [4, 6, 8],\n",
       "                         &#x27;iterations&#x27;: [1, 3, 5],\n",
       "                         &#x27;learning_rate&#x27;: [0.01, 0.05, 0.1]},\n",
       "             scoring=&#x27;roc_auc&#x27;)</pre><b>In a Jupyter environment, please rerun this cell to show the HTML representation or trust the notebook. <br />On GitHub, the HTML representation is unable to render, please try loading this page with nbviewer.org.</b></div><div class=\"sk-container\" hidden><div class=\"sk-item sk-dashed-wrapped\"><div class=\"sk-label-container\"><div class=\"sk-label sk-toggleable\"><input class=\"sk-toggleable__control sk-hidden--visually\" id=\"sk-estimator-id-5\" type=\"checkbox\" ><label for=\"sk-estimator-id-5\" class=\"sk-toggleable__label sk-toggleable__label-arrow\">GridSearchCV</label><div class=\"sk-toggleable__content\"><pre>GridSearchCV(cv=3,\n",
       "             estimator=&lt;catboost.core.CatBoostClassifier object at 0x000001EE0EF8AD90&gt;,\n",
       "             n_jobs=-1,\n",
       "             param_grid={&#x27;auto_class_weights&#x27;: [&#x27;Balanced&#x27;], &#x27;depth&#x27;: [4, 6, 8],\n",
       "                         &#x27;iterations&#x27;: [1, 3, 5],\n",
       "                         &#x27;learning_rate&#x27;: [0.01, 0.05, 0.1]},\n",
       "             scoring=&#x27;roc_auc&#x27;)</pre></div></div></div><div class=\"sk-parallel\"><div class=\"sk-parallel-item\"><div class=\"sk-item\"><div class=\"sk-label-container\"><div class=\"sk-label sk-toggleable\"><input class=\"sk-toggleable__control sk-hidden--visually\" id=\"sk-estimator-id-6\" type=\"checkbox\" ><label for=\"sk-estimator-id-6\" class=\"sk-toggleable__label sk-toggleable__label-arrow\">estimator: CatBoostClassifier</label><div class=\"sk-toggleable__content\"><pre>&lt;catboost.core.CatBoostClassifier object at 0x000001EE0EF8AD90&gt;</pre></div></div></div><div class=\"sk-serial\"><div class=\"sk-item\"><div class=\"sk-estimator sk-toggleable\"><input class=\"sk-toggleable__control sk-hidden--visually\" id=\"sk-estimator-id-7\" type=\"checkbox\" ><label for=\"sk-estimator-id-7\" class=\"sk-toggleable__label sk-toggleable__label-arrow\">CatBoostClassifier</label><div class=\"sk-toggleable__content\"><pre>&lt;catboost.core.CatBoostClassifier object at 0x000001EE0EF8AD90&gt;</pre></div></div></div></div></div></div></div></div></div></div>"
      ],
      "text/plain": [
       "GridSearchCV(cv=3,\n",
       "             estimator=<catboost.core.CatBoostClassifier object at 0x000001EE0EF8AD90>,\n",
       "             n_jobs=-1,\n",
       "             param_grid={'auto_class_weights': ['Balanced'], 'depth': [4, 6, 8],\n",
       "                         'iterations': [1, 3, 5],\n",
       "                         'learning_rate': [0.01, 0.05, 0.1]},\n",
       "             scoring='roc_auc')"
      ]
     },
     "execution_count": 176,
     "metadata": {},
     "output_type": "execute_result"
    }
   ],
   "source": [
    "param_grid ={\n",
    "    'depth': [4,6, 8],\n",
    "    'learning_rate': [0.01, 0.05, 0.1],\n",
    "    'iterations': [1, 3, 5],\n",
    "    'auto_class_weights': ['Balanced']\n",
    "}\n",
    "\n",
    "grid_search = GridSearchCV(\n",
    "    CatBoostClassifier(verbose=0, random_state=42),\n",
    "    param_grid,\n",
    "    cv=3,\n",
    "    scoring='roc_auc',\n",
    "    n_jobs=-1)\n",
    "\n",
    "grid_search.fit(X_train.drop(columns='level_1_mode'), y_train, cat_features=[8])"
   ]
  },
  {
   "cell_type": "code",
   "execution_count": 177,
   "id": "ec7fa5ef-26f9-4324-aa67-c6c80db564c7",
   "metadata": {
    "tags": []
   },
   "outputs": [
    {
     "data": {
      "text/plain": [
       "0.6862848715224832"
      ]
     },
     "execution_count": 177,
     "metadata": {},
     "output_type": "execute_result"
    }
   ],
   "source": [
    "grid_search.best_score_"
   ]
  },
  {
   "cell_type": "markdown",
   "id": "9a8cfd07-1419-4727-b573-51a3fda1d1ba",
   "metadata": {},
   "source": [
    "### Лучшая модель"
   ]
  },
  {
   "cell_type": "markdown",
   "id": "cb6abcf1-6479-4182-9c85-1ccae701f983",
   "metadata": {
    "tags": []
   },
   "source": [
    "Лучшая метрика roc_auc=0.71 у модели на основе алгоритма случайного леса с параметрами:\n",
    "- max_depth = 5, \n",
    "- min_samples_leaf = 1, \n",
    "- n_estimators = 200.\n",
    "\n",
    "Заново обучим эту модель с данными параметрами и проверим метрику roc_auc на тестовой выборке.\n"
   ]
  },
  {
   "cell_type": "code",
   "execution_count": 189,
   "id": "e0dabd11-9e6d-4564-82f2-b991ee93d2c7",
   "metadata": {
    "tags": []
   },
   "outputs": [
    {
     "data": {
      "text/plain": [
       "0.5149376486287548"
      ]
     },
     "execution_count": 189,
     "metadata": {},
     "output_type": "execute_result"
    }
   ],
   "source": [
    "parameters = {\n",
    "    'random_state':42,\n",
    "    'class_weight':'balanced',\n",
    "    'max_depth': 5,\n",
    "    'min_samples_leaf': 1,\n",
    "    'n_estimators': 200\n",
    "}\n",
    "\n",
    "model = RandomForestClassifier(**parameters)\n",
    "\n",
    "model.fit(X_train.drop(columns='level_1_mode'), y_train)\n",
    "\n",
    "roc_auc_score(model.predict(X_test.drop(columns='level_1_mode')), y_test)"
   ]
  },
  {
   "cell_type": "markdown",
   "id": "c072d40b-ae7b-4f46-b13a-022248fbce7b",
   "metadata": {},
   "source": [
    "### Матрица ошибок"
   ]
  },
  {
   "cell_type": "code",
   "execution_count": 193,
   "id": "29db69e3-6f24-4702-af43-53f9e3d05788",
   "metadata": {
    "tags": []
   },
   "outputs": [
    {
     "data": {
      "text/plain": [
       "<sklearn.metrics._plot.confusion_matrix.ConfusionMatrixDisplay at 0x1ee0e35f890>"
      ]
     },
     "execution_count": 193,
     "metadata": {},
     "output_type": "execute_result"
    },
    {
     "data": {
      "image/png": "[encoded data removed]",
      "text/plain": [
       "<Figure size 640x480 with 2 Axes>"
      ]
     },
     "metadata": {},
     "output_type": "display_data"
    }
   ],
   "source": [
    "y_pred = model.predict(X_test.drop(columns='level_1_mode'))\n",
    "cm = confusion_matrix(y_test, y_pred, labels=[0, 1])\n",
    "disp = ConfusionMatrixDisplay(cm, display_labels=[0, 1])\n",
    "disp.plot()"
   ]
  },
  {
   "cell_type": "code",
   "execution_count": 194,
   "id": "be3025c3-f6dc-47a9-aa52-3191500ed184",
   "metadata": {
    "tags": []
   },
   "outputs": [
    {
     "name": "stdout",
     "output_type": "stream",
     "text": [
      "              precision    recall  f1-score   support\n",
      "\n",
      "     Class 0       0.99      0.74      0.85     14566\n",
      "     Class 1       0.04      0.55      0.08       304\n",
      "\n",
      "    accuracy                           0.74     14870\n",
      "   macro avg       0.51      0.65      0.46     14870\n",
      "weighted avg       0.97      0.74      0.83     14870\n",
      "\n"
     ]
    }
   ],
   "source": [
    "report = classification_report(y_test, y_pred, target_names=[\"Class 0\", \"Class 1\"])\n",
    "print(report)"
   ]
  },
  {
   "cell_type": "code",
   "execution_count": 195,
   "id": "9a117db6-834e-40a5-88e6-9cf349c3f275",
   "metadata": {
    "tags": []
   },
   "outputs": [],
   "source": [
    "from sklearn.metrics import precision_recall_curve"
   ]
  },
  {
   "cell_type": "code",
   "execution_count": 213,
   "id": "541f6bbd-12c3-4ad6-b8c8-a2ccdcbd5661",
   "metadata": {
    "tags": []
   },
   "outputs": [],
   "source": [
    "y_pred_proba = model.predict_proba(X_test.drop(columns='level_1_mode'))[:, 1]\n",
    "\n",
    "precision, recall, thresholds = precision_recall_curve(y_test, y_pred_proba)"
   ]
  },
  {
   "cell_type": "code",
   "execution_count": 214,
   "id": "d914108f-59fd-4504-95c0-7e2b80ef58c6",
   "metadata": {
    "tags": []
   },
   "outputs": [
    {
     "name": "stderr",
     "output_type": "stream",
     "text": [
      "C:\\Users\\katkalov\\AppData\\Local\\Temp\\ipykernel_5676\\3209173370.py:1: RuntimeWarning: invalid value encountered in divide\n",
      "  f1_scores = 2 * (precision * recall)/ (precision + recall)\n"
     ]
    },
    {
     "data": {
      "text/plain": [
       "0.8486791775241094"
      ]
     },
     "execution_count": 214,
     "metadata": {},
     "output_type": "execute_result"
    }
   ],
   "source": [
    "f1_scores = 2 * (precision * recall)/ (precision + recall)\n",
    "best_thresholds = thresholds[np.argmax(f1_scores)]\n",
    "best_thresholds"
   ]
  },
  {
   "cell_type": "code",
   "execution_count": 215,
   "id": "90e5681f-e756-4fa6-b55c-107a7d7247bf",
   "metadata": {
    "tags": []
   },
   "outputs": [],
   "source": [
    "y_pred_adjusted = (y_pred_proba>=best_thresholds).astype(int)"
   ]
  },
  {
   "cell_type": "code",
   "execution_count": 216,
   "id": "e92f766a-daec-41e8-a721-a070bf02b19f",
   "metadata": {
    "tags": []
   },
   "outputs": [
    {
     "name": "stdout",
     "output_type": "stream",
     "text": [
      "              precision    recall  f1-score   support\n",
      "\n",
      "     Class 0       0.98      0.97      0.97     14566\n",
      "     Class 1       0.00      0.00      0.00       304\n",
      "\n",
      "    accuracy                           0.95     14870\n",
      "   macro avg       0.49      0.49      0.49     14870\n",
      "weighted avg       0.96      0.95      0.96     14870\n",
      "\n"
     ]
    }
   ],
   "source": [
    "report = classification_report(y_test, y_pred_adjusted, target_names=[\"Class 0\", \"Class 1\"])\n",
    "print(report)"
   ]
  },
  {
   "cell_type": "code",
   "execution_count": null,
   "id": "d15b2baf-678a-4cbb-996a-02d764e6d4ef",
   "metadata": {},
   "outputs": [],
   "source": [
    "y_pred_proba_0 = model.predict_proba(X_test.drop(columns='level_1_mode'))[:, 0]\n",
    "\n",
    "thresholds = np.linspace (0, 1, 100)\n",
    "f1_score = [f1_score(y_true, (y_pred_proba_0>=t).astype(int), pos_label=0 for t in thresholds]\n",
    "                     "
   ]
  }
 ],
 "metadata": {
  "colab": {
   "provenance": [],
   "toc_visible": true
  },
  "kernelspec": {
   "display_name": "Python 3 (ipykernel)",
   "language": "python",
   "name": "python3"
  },
  "language_info": {
   "codemirror_mode": {
    "name": "ipython",
    "version": 3
   },
   "file_extension": ".py",
   "mimetype": "text/x-python",
   "name": "python",
   "nbconvert_exporter": "python",
   "pygments_lexer": "ipython3",
   "version": "3.11.4"
  },
  "toc-showtags": false
 },
 "nbformat": 4,
 "nbformat_minor": 5
}
